{
 "cells": [
  {
   "cell_type": "code",
   "execution_count": 1,
   "metadata": {},
   "outputs": [],
   "source": [
    "import gym\n",
    "\n",
    "\n",
    "def one_hot_vector(i, n):\n",
    "    x = np.zeros(n)\n",
    "    x[i] = 1\n",
    "    return x\n",
    "\n",
    "\n",
    "def to_bits(i, n):\n",
    "    \"\"\" dense binary representation of a one-hot encoded vector of size n \"\"\"\n",
    "    nbits = int(np.ceil(np.log2(n)))\n",
    "    b = \"{:032b}\".format(i)\n",
    "    return b[-nbits:]\n",
    "\n",
    "\n",
    "def X(s, a):\n",
    "    \"\"\" map state-action pair to int (unique, dense) \"\"\"\n",
    "    x = \"\".join(\n",
    "        [to_bits(a, env.action_space.n)] +\n",
    "        [to_bits(i, sp.n) for i, sp in zip(s, env.observation_space.spaces)])\n",
    "    return int(x, 2)\n",
    "\n",
    "\n",
    "def init_Q(env, scale=0):\n",
    "    dim = 2 ** (\n",
    "        int(np.ceil(np.log2(env.action_space.n))) +\n",
    "        sum(int(np.ceil(np.log2(sp.n))) for sp in env.observation_space.spaces))\n",
    "    return scale * np.ones(dim)\n",
    "\n",
    "\n",
    "def epsilon_greedy(Q, s, epsilon):\n",
    "    if np.random.rand() < epsilon:\n",
    "        return env.action_space.sample()\n",
    "    \n",
    "    Q_a = [Q[X(s, a)] for a in (0, 1)]\n",
    "    a = np.argmax(Q_a)\n",
    "    return a\n",
    "\n",
    "def process_performance(performance):\n",
    "    # postprocess performance\n",
    "    df = pd.DataFrame(performance, columns=('lose', 'draw', 'win'))\n",
    "    df.index.name = 'episode'\n",
    "    tmp = df.rolling(1000).sum().iloc[1000:]\n",
    "    tmp = tmp.div(tmp.sum(axis=1), axis=0)\n",
    "    display(tmp.iloc[[-1]].T)\n",
    "\n",
    "    # plot\n",
    "    tmp['draw'] += tmp['win']\n",
    "    tmp['lose'] += tmp['draw']\n",
    "    ax = tmp.plot(y='win')\n",
    "    ax.fill_between(tmp.index, tmp['win'], alpha=0.5)\n",
    "    tmp.plot(y='draw', ax=ax)\n",
    "    ax.fill_between(tmp.index, tmp['win'], tmp['draw'], alpha=0.5)\n",
    "    tmp.plot(y='lose', ax=ax)\n",
    "    ax.fill_between(tmp.index, tmp['draw'], tmp['lose'], alpha=0.5)"
   ]
  },
  {
   "cell_type": "markdown",
   "metadata": {},
   "source": [
    "# Create a baseline\n",
    "\n",
    "For this, we set `epsilon` to 1, i.e. only random exploration."
   ]
  },
  {
   "cell_type": "code",
   "execution_count": 2,
   "metadata": {},
   "outputs": [
    {
     "name": "stderr",
     "output_type": "stream",
     "text": [
      "/home/kris/.local/lib/python3.6/site-packages/gym/envs/registration.py:14: PkgResourcesDeprecationWarning: Parameters to load are deprecated.  Call .resolve and .require separately.\n",
      "  result = entry_point.load(False)\n"
     ]
    },
    {
     "data": {
      "text/html": [
       "<div>\n",
       "<style scoped>\n",
       "    .dataframe tbody tr th:only-of-type {\n",
       "        vertical-align: middle;\n",
       "    }\n",
       "\n",
       "    .dataframe tbody tr th {\n",
       "        vertical-align: top;\n",
       "    }\n",
       "\n",
       "    .dataframe thead th {\n",
       "        text-align: right;\n",
       "    }\n",
       "</style>\n",
       "<table border=\"1\" class=\"dataframe\">\n",
       "  <thead>\n",
       "    <tr style=\"text-align: right;\">\n",
       "      <th>episode</th>\n",
       "      <th>9999</th>\n",
       "    </tr>\n",
       "  </thead>\n",
       "  <tbody>\n",
       "    <tr>\n",
       "      <th>lose</th>\n",
       "      <td>0.669</td>\n",
       "    </tr>\n",
       "    <tr>\n",
       "      <th>draw</th>\n",
       "      <td>0.053</td>\n",
       "    </tr>\n",
       "    <tr>\n",
       "      <th>win</th>\n",
       "      <td>0.278</td>\n",
       "    </tr>\n",
       "  </tbody>\n",
       "</table>\n",
       "</div>"
      ],
      "text/plain": [
       "episode   9999\n",
       "lose     0.669\n",
       "draw     0.053\n",
       "win      0.278"
      ]
     },
     "metadata": {},
     "output_type": "display_data"
    },
    {
     "name": "stdout",
     "output_type": "stream",
     "text": [
      "CPU times: user 1.1 s, sys: 109 ms, total: 1.21 s\n",
      "Wall time: 1.14 s\n"
     ]
    },
    {
     "data": {
      "image/png": "[encoded data removed]",
      "text/plain": [
       "<Figure size 432x288 with 1 Axes>"
      ]
     },
     "metadata": {
      "needs_background": "light"
     },
     "output_type": "display_data"
    }
   ],
   "source": [
    "%%time\n",
    "\n",
    "# parameters\n",
    "gamma = 1.0\n",
    "num_episodes = 10000\n",
    "first_visit_update = False\n",
    "\n",
    "\n",
    "# initialize\n",
    "env = gym.make('Blackjack-v0')\n",
    "Q = init_Q(env, scale=10)\n",
    "N = np.zeros_like(Q)\n",
    "\n",
    "\n",
    "# keep track of performance\n",
    "performance = []\n",
    "\n",
    "\n",
    "for episode in range(1, num_episodes + 1):\n",
    "\n",
    "    # init\n",
    "    s = env.reset()\n",
    "    episode_cache = []\n",
    "    \n",
    "    # amount of random exploration\n",
    "    epsilon = 1\n",
    "    \n",
    "    done = False\n",
    "    while not done:\n",
    "        a = epsilon_greedy(Q, s, epsilon)\n",
    "        s_next, r, done, info = env.step(a)\n",
    "\n",
    "        # store experience\n",
    "        episode_cache.append((X(s, a), r))\n",
    "    \n",
    "        # prepare for next step\n",
    "        s = s_next\n",
    "    \n",
    "    j = 1 + int(r)  # 0: loss, 1: draw, 2: win\n",
    "    performance.append(one_hot_vector(j, 3))\n",
    "    \n",
    "    # unroll episode experience\n",
    "    G = 0.0\n",
    "    while episode_cache:\n",
    "        i, r = episode_cache.pop()\n",
    "        G = r + gamma * G\n",
    "        \n",
    "        # hold off on update if an earlier i exists\n",
    "        if first_visit_update and i in dict(episode_cache):\n",
    "            continue\n",
    "        \n",
    "        N[i] += 1\n",
    "        Q[i] += (G - Q[i]) / N[i]\n",
    "\n",
    "env.close()\n",
    "\n",
    "process_performance(performance)"
   ]
  },
  {
   "cell_type": "markdown",
   "metadata": {},
   "source": [
    "# Create a benchmark\n",
    "\n",
    "Same as above, but with `epsilon` starting at 1 and linearly degrading over time."
   ]
  },
  {
   "cell_type": "code",
   "execution_count": 3,
   "metadata": {},
   "outputs": [
    {
     "data": {
      "text/html": [
       "<div>\n",
       "<style scoped>\n",
       "    .dataframe tbody tr th:only-of-type {\n",
       "        vertical-align: middle;\n",
       "    }\n",
       "\n",
       "    .dataframe tbody tr th {\n",
       "        vertical-align: top;\n",
       "    }\n",
       "\n",
       "    .dataframe thead th {\n",
       "        text-align: right;\n",
       "    }\n",
       "</style>\n",
       "<table border=\"1\" class=\"dataframe\">\n",
       "  <thead>\n",
       "    <tr style=\"text-align: right;\">\n",
       "      <th>episode</th>\n",
       "      <th>99999</th>\n",
       "    </tr>\n",
       "  </thead>\n",
       "  <tbody>\n",
       "    <tr>\n",
       "      <th>lose</th>\n",
       "      <td>0.521</td>\n",
       "    </tr>\n",
       "    <tr>\n",
       "      <th>draw</th>\n",
       "      <td>0.077</td>\n",
       "    </tr>\n",
       "    <tr>\n",
       "      <th>win</th>\n",
       "      <td>0.402</td>\n",
       "    </tr>\n",
       "  </tbody>\n",
       "</table>\n",
       "</div>"
      ],
      "text/plain": [
       "episode  99999\n",
       "lose     0.521\n",
       "draw     0.077\n",
       "win      0.402"
      ]
     },
     "metadata": {},
     "output_type": "display_data"
    },
    {
     "name": "stdout",
     "output_type": "stream",
     "text": [
      "CPU times: user 16.1 s, sys: 343 ms, total: 16.4 s\n",
      "Wall time: 16 s\n"
     ]
    },
    {
     "data": {
      "image/png": "[encoded data removed]",
      "text/plain": [
       "<Figure size 432x288 with 1 Axes>"
      ]
     },
     "metadata": {
      "needs_background": "light"
     },
     "output_type": "display_data"
    }
   ],
   "source": [
    "%%time\n",
    "\n",
    "# parameters\n",
    "gamma = 1.0\n",
    "num_episodes = 100000\n",
    "first_visit_update = False\n",
    "\n",
    "\n",
    "# initialize\n",
    "env = gym.make('Blackjack-v0')\n",
    "Q = init_Q(env, scale=10)\n",
    "N = np.zeros_like(Q)\n",
    "\n",
    "\n",
    "# keep track of performance\n",
    "performance = []\n",
    "\n",
    "\n",
    "for episode in range(1, num_episodes + 1):\n",
    "\n",
    "    # init\n",
    "    s = env.reset()\n",
    "    episode_cache = []\n",
    "    \n",
    "    # amount of random exploration\n",
    "    epsilon = np.clip(1 - episode / (0.8 * num_episodes), 0, 1)\n",
    "    \n",
    "    done = False\n",
    "    while not done:\n",
    "        a = epsilon_greedy(Q, s, epsilon)\n",
    "        s_next, r, done, info = env.step(a)\n",
    "\n",
    "        # store experience\n",
    "        episode_cache.append((X(s, a), r))\n",
    "    \n",
    "        # prepare for next step\n",
    "        s = s_next\n",
    "    \n",
    "    j = 1 + int(r)  # 0: loss, 1: draw, 2: win\n",
    "    performance.append(one_hot_vector(j, 3))\n",
    "    \n",
    "    # unroll episode experience\n",
    "    G = 0.0\n",
    "    while episode_cache:\n",
    "        i, r = episode_cache.pop()\n",
    "        G = r + gamma * G\n",
    "        \n",
    "        # hold off on update if an earlier i exists\n",
    "        if first_visit_update and i in dict(episode_cache):\n",
    "            continue\n",
    "        \n",
    "        N[i] += 1\n",
    "        Q[i] += (G - Q[i]) / N[i]\n",
    "\n",
    "env.close()\n",
    "\n",
    "process_performance(performance)\n"
   ]
  },
  {
   "cell_type": "markdown",
   "metadata": {},
   "source": [
    "# Now let's try the skgym version\n",
    "\n",
    "This version is slower than the benchmark. I need to look into this."
   ]
  },
  {
   "cell_type": "code",
   "execution_count": 4,
   "metadata": {
    "scrolled": false
   },
   "outputs": [
    {
     "name": "stderr",
     "output_type": "stream",
     "text": [
      "/home/kris/.local/lib/python3.6/site-packages/gym/envs/registration.py:14: PkgResourcesDeprecationWarning: Parameters to load are deprecated.  Call .resolve and .require separately.\n",
      "  result = entry_point.load(False)\n"
     ]
    },
    {
     "data": {
      "text/html": [
       "<div>\n",
       "<style scoped>\n",
       "    .dataframe tbody tr th:only-of-type {\n",
       "        vertical-align: middle;\n",
       "    }\n",
       "\n",
       "    .dataframe tbody tr th {\n",
       "        vertical-align: top;\n",
       "    }\n",
       "\n",
       "    .dataframe thead th {\n",
       "        text-align: right;\n",
       "    }\n",
       "</style>\n",
       "<table border=\"1\" class=\"dataframe\">\n",
       "  <thead>\n",
       "    <tr style=\"text-align: right;\">\n",
       "      <th>episode</th>\n",
       "      <th>99999</th>\n",
       "    </tr>\n",
       "  </thead>\n",
       "  <tbody>\n",
       "    <tr>\n",
       "      <th>lose</th>\n",
       "      <td>0.490</td>\n",
       "    </tr>\n",
       "    <tr>\n",
       "      <th>draw</th>\n",
       "      <td>0.089</td>\n",
       "    </tr>\n",
       "    <tr>\n",
       "      <th>win</th>\n",
       "      <td>0.421</td>\n",
       "    </tr>\n",
       "  </tbody>\n",
       "</table>\n",
       "</div>"
      ],
      "text/plain": [
       "episode  99999\n",
       "lose     0.490\n",
       "draw     0.089\n",
       "win      0.421"
      ]
     },
     "metadata": {},
     "output_type": "display_data"
    },
    {
     "name": "stdout",
     "output_type": "stream",
     "text": [
      "CPU times: user 3min 23s, sys: 4.92 s, total: 3min 28s\n",
      "Wall time: 3min 28s\n"
     ]
    },
    {
     "data": {
      "image/png": "[encoded data removed]",
      "text/plain": [
       "<Figure size 432x288 with 1 Axes>"
      ]
     },
     "metadata": {
      "needs_background": "light"
     },
     "output_type": "display_data"
    }
   ],
   "source": [
    "%%time\n",
    "\n",
    "import gym\n",
    "from skgym.value_functions import GenericQ\n",
    "from skgym.policies import ValuePolicy\n",
    "from skgym.algorithms import MonteCarlo\n",
    "from sklearn.linear_model import SGDRegressor\n",
    "from sklearn.preprocessing import FunctionTransformer\n",
    "\n",
    "\n",
    "# the Gym environment\n",
    "env = gym.make('Blackjack-v0')\n",
    "\n",
    "\n",
    "# define sklearn model for approximating Q-function\n",
    "regressor = SGDRegressor(eta0=0.05, learning_rate='constant')\n",
    "\n",
    "\n",
    "# define Q, its induced policy and update algorithm\n",
    "Q = GenericQ(env, regressor, model_type=2)\n",
    "policy = ValuePolicy(Q)\n",
    "algo = MonteCarlo(Q, gamma=1)\n",
    "\n",
    "\n",
    "# number of iterations\n",
    "num_episodes = 100000\n",
    "max_episode_steps = 100\n",
    "\n",
    "\n",
    "# used for early stopping\n",
    "performance = []\n",
    "\n",
    "\n",
    "for episode in range(1, num_episodes + 1):\n",
    "    \n",
    "    # init\n",
    "    s = env.reset()\n",
    "    \n",
    "    # amount of random exploration\n",
    "    epsilon = np.clip(1 -  episode / (0.8 * num_episodes), 0, 1)\n",
    "    \n",
    "    done = False\n",
    "    while not done:\n",
    "        a = policy.epsilon_greedy(s, epsilon)\n",
    "        s_next, r, done, info = env.step(a)\n",
    "        \n",
    "        # update\n",
    "        algo.update(s, a, r, s_next, done)         \n",
    "    \n",
    "        # prepare for next step\n",
    "        s = s_next\n",
    "        \n",
    "    j = 1 + int(r)  # 0: loss, 1: draw, 2: win\n",
    "    performance.append(one_hot_vector(j, 3))\n",
    "\n",
    "\n",
    "env.close()\n",
    "process_performance(performance)\n"
   ]
  }
 ],
 "metadata": {
  "kernelspec": {
   "display_name": "Python 3",
   "language": "python",
   "name": "python3"
  },
  "language_info": {
   "codemirror_mode": {
    "name": "ipython",
    "version": 3
   },
   "file_extension": ".py",
   "mimetype": "text/x-python",
   "name": "python",
   "nbconvert_exporter": "python",
   "pygments_lexer": "ipython3",
   "version": "3.6.7"
  }
 },
 "nbformat": 4,
 "nbformat_minor": 2
}
