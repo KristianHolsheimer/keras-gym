{
 "cells": [
  {
   "cell_type": "code",
   "execution_count": 1,
   "metadata": {},
   "outputs": [],
   "source": [
    "import gym\n",
    "\n",
    "\n",
    "def one_hot_vector(i, n):\n",
    "    x = np.zeros(n)\n",
    "    x[i] = 1\n",
    "    return x\n",
    "\n",
    "\n",
    "def to_bits(i, n):\n",
    "    \"\"\" dense binary representation of a one-hot encoded vector of size n \"\"\"\n",
    "    nbits = int(np.ceil(np.log2(n)))\n",
    "    b = \"{:032b}\".format(i)\n",
    "    return b[-nbits:]\n",
    "\n",
    "\n",
    "def X(s, a):\n",
    "    \"\"\" map state-action pair to int (unique, dense) \"\"\"\n",
    "    x = \"\".join(\n",
    "        [to_bits(a, env.action_space.n)] +\n",
    "        [to_bits(i, sp.n) for i, sp in zip(s, env.observation_space.spaces)])\n",
    "    return int(x, 2)\n",
    "\n",
    "\n",
    "def init_Q(env, scale=0):\n",
    "    dim = 2 ** (\n",
    "        int(np.ceil(np.log2(env.action_space.n))) +\n",
    "        sum(int(np.ceil(np.log2(sp.n))) for sp in env.observation_space.spaces))\n",
    "    return scale * np.ones(dim)\n",
    "\n",
    "\n",
    "def epsilon_greedy(Q, s, epsilon):\n",
    "    if np.random.rand() < epsilon:\n",
    "        return env.action_space.sample()\n",
    "    \n",
    "    Q_a = [Q[X(s, a)] for a in (0, 1)]\n",
    "    a = np.argmax(Q_a)\n",
    "    return a\n",
    "\n",
    "def process_performance(performance):\n",
    "    # postprocess performance\n",
    "    df = pd.DataFrame(performance, columns=('lose', 'draw', 'win'))\n",
    "    df.index.name = 'episode'\n",
    "    tmp = df.rolling(1000).sum().iloc[1000:]\n",
    "    tmp = tmp.div(tmp.sum(axis=1), axis=0)\n",
    "    display(tmp.iloc[[-1]].T)\n",
    "\n",
    "    # plot\n",
    "    tmp['draw'] += tmp['win']\n",
    "    tmp['lose'] += tmp['draw']\n",
    "    ax = tmp.plot(y='win')\n",
    "    ax.fill_between(tmp.index, tmp['win'], alpha=0.5)\n",
    "    tmp.plot(y='draw', ax=ax)\n",
    "    ax.fill_between(tmp.index, tmp['win'], tmp['draw'], alpha=0.5)\n",
    "    tmp.plot(y='lose', ax=ax)\n",
    "    ax.fill_between(tmp.index, tmp['draw'], tmp['lose'], alpha=0.5)"
   ]
  },
  {
   "cell_type": "markdown",
   "metadata": {},
   "source": [
    "# Create a baseline\n",
    "\n",
    "For this, we set `epsilon` to 1, i.e. only random exploration."
   ]
  },
  {
   "cell_type": "code",
   "execution_count": 2,
   "metadata": {},
   "outputs": [
    {
     "data": {
      "text/html": [
       "<div>\n",
       "<style scoped>\n",
       "    .dataframe tbody tr th:only-of-type {\n",
       "        vertical-align: middle;\n",
       "    }\n",
       "\n",
       "    .dataframe tbody tr th {\n",
       "        vertical-align: top;\n",
       "    }\n",
       "\n",
       "    .dataframe thead th {\n",
       "        text-align: right;\n",
       "    }\n",
       "</style>\n",
       "<table border=\"1\" class=\"dataframe\">\n",
       "  <thead>\n",
       "    <tr style=\"text-align: right;\">\n",
       "      <th>episode</th>\n",
       "      <th>9999</th>\n",
       "    </tr>\n",
       "  </thead>\n",
       "  <tbody>\n",
       "    <tr>\n",
       "      <th>lose</th>\n",
       "      <td>0.655</td>\n",
       "    </tr>\n",
       "    <tr>\n",
       "      <th>draw</th>\n",
       "      <td>0.045</td>\n",
       "    </tr>\n",
       "    <tr>\n",
       "      <th>win</th>\n",
       "      <td>0.300</td>\n",
       "    </tr>\n",
       "  </tbody>\n",
       "</table>\n",
       "</div>"
      ],
      "text/plain": [
       "episode   9999\n",
       "lose     0.655\n",
       "draw     0.045\n",
       "win      0.300"
      ]
     },
     "metadata": {},
     "output_type": "display_data"
    },
    {
     "name": "stdout",
     "output_type": "stream",
     "text": [
      "CPU times: user 1.04 s, sys: 24.6 ms, total: 1.07 s\n",
      "Wall time: 1.06 s\n"
     ]
    },
    {
     "data": {
      "image/png": "[encoded data removed]",
      "text/plain": [
       "<Figure size 432x288 with 1 Axes>"
      ]
     },
     "metadata": {
      "needs_background": "light"
     },
     "output_type": "display_data"
    }
   ],
   "source": [
    "%%time\n",
    "\n",
    "# parameters\n",
    "gamma = 1.0\n",
    "num_episodes = 10000\n",
    "first_visit_update = False\n",
    "\n",
    "\n",
    "# initialize\n",
    "env = gym.make('Blackjack-v0')\n",
    "Q = init_Q(env, scale=10)\n",
    "N = np.zeros_like(Q)\n",
    "\n",
    "\n",
    "# keep track of performance\n",
    "performance = []\n",
    "\n",
    "\n",
    "for episode in range(1, num_episodes + 1):\n",
    "\n",
    "    # init\n",
    "    s = env.reset()\n",
    "    episode_cache = []\n",
    "    \n",
    "    # amount of random exploration\n",
    "    epsilon = 1\n",
    "    \n",
    "    done = False\n",
    "    while not done:\n",
    "        a = epsilon_greedy(Q, s, epsilon)\n",
    "        s_next, r, done, info = env.step(a)\n",
    "\n",
    "        # store experience\n",
    "        episode_cache.append((X(s, a), r))\n",
    "    \n",
    "        # prepare for next step\n",
    "        s = s_next\n",
    "    \n",
    "    j = 1 + int(r)  # 0: loss, 1: draw, 2: win\n",
    "    performance.append(one_hot_vector(j, 3))\n",
    "    \n",
    "    # unroll episode experience\n",
    "    G = 0.0\n",
    "    while episode_cache:\n",
    "        i, r = episode_cache.pop()\n",
    "        G = r + gamma * G\n",
    "        \n",
    "        # hold off on update if an earlier i exists\n",
    "        if first_visit_update and i in dict(episode_cache):\n",
    "            continue\n",
    "        \n",
    "        N[i] += 1\n",
    "        Q[i] += (G - Q[i]) / N[i]\n",
    "\n",
    "env.close()\n",
    "\n",
    "process_performance(performance)"
   ]
  },
  {
   "cell_type": "markdown",
   "metadata": {},
   "source": [
    "# Create a benchmark\n",
    "\n",
    "Same as above, but with `epsilon` starting at 1 and linearly degrading over time."
   ]
  },
  {
   "cell_type": "code",
   "execution_count": 3,
   "metadata": {},
   "outputs": [
    {
     "data": {
      "text/html": [
       "<div>\n",
       "<style scoped>\n",
       "    .dataframe tbody tr th:only-of-type {\n",
       "        vertical-align: middle;\n",
       "    }\n",
       "\n",
       "    .dataframe tbody tr th {\n",
       "        vertical-align: top;\n",
       "    }\n",
       "\n",
       "    .dataframe thead th {\n",
       "        text-align: right;\n",
       "    }\n",
       "</style>\n",
       "<table border=\"1\" class=\"dataframe\">\n",
       "  <thead>\n",
       "    <tr style=\"text-align: right;\">\n",
       "      <th>episode</th>\n",
       "      <th>9999</th>\n",
       "    </tr>\n",
       "  </thead>\n",
       "  <tbody>\n",
       "    <tr>\n",
       "      <th>lose</th>\n",
       "      <td>0.518</td>\n",
       "    </tr>\n",
       "    <tr>\n",
       "      <th>draw</th>\n",
       "      <td>0.059</td>\n",
       "    </tr>\n",
       "    <tr>\n",
       "      <th>win</th>\n",
       "      <td>0.423</td>\n",
       "    </tr>\n",
       "  </tbody>\n",
       "</table>\n",
       "</div>"
      ],
      "text/plain": [
       "episode   9999\n",
       "lose     0.518\n",
       "draw     0.059\n",
       "win      0.423"
      ]
     },
     "metadata": {},
     "output_type": "display_data"
    },
    {
     "name": "stdout",
     "output_type": "stream",
     "text": [
      "CPU times: user 1.64 s, sys: 62.8 ms, total: 1.7 s\n",
      "Wall time: 1.6 s\n"
     ]
    },
    {
     "data": {
      "image/png": "[encoded data removed]",
      "text/plain": [
       "<Figure size 432x288 with 1 Axes>"
      ]
     },
     "metadata": {
      "needs_background": "light"
     },
     "output_type": "display_data"
    }
   ],
   "source": [
    "%%time\n",
    "\n",
    "# parameters\n",
    "gamma = 1.0\n",
    "num_episodes = 10000\n",
    "first_visit_update = False\n",
    "\n",
    "\n",
    "# initialize\n",
    "env = gym.make('Blackjack-v0')\n",
    "Q = init_Q(env, scale=10)\n",
    "N = np.zeros_like(Q)\n",
    "\n",
    "\n",
    "# keep track of performance\n",
    "performance = []\n",
    "\n",
    "\n",
    "for episode in range(1, num_episodes + 1):\n",
    "\n",
    "    # init\n",
    "    s = env.reset()\n",
    "    episode_cache = []\n",
    "    \n",
    "    # amount of random exploration\n",
    "    epsilon = np.clip(1 - episode / (0.8 * num_episodes), 0, 1)\n",
    "    \n",
    "    done = False\n",
    "    while not done:\n",
    "        a = epsilon_greedy(Q, s, epsilon)\n",
    "        s_next, r, done, info = env.step(a)\n",
    "\n",
    "        # store experience\n",
    "        episode_cache.append((X(s, a), r))\n",
    "    \n",
    "        # prepare for next step\n",
    "        s = s_next\n",
    "    \n",
    "    j = 1 + int(r)  # 0: loss, 1: draw, 2: win\n",
    "    performance.append(one_hot_vector(j, 3))\n",
    "    \n",
    "    # unroll episode experience\n",
    "    G = 0.0\n",
    "    while episode_cache:\n",
    "        i, r = episode_cache.pop()\n",
    "        G = r + gamma * G\n",
    "        \n",
    "        # hold off on update if an earlier i exists\n",
    "        if first_visit_update and i in dict(episode_cache):\n",
    "            continue\n",
    "        \n",
    "        N[i] += 1\n",
    "        Q[i] += (G - Q[i]) / N[i]\n",
    "\n",
    "env.close()\n",
    "\n",
    "process_performance(performance)\n"
   ]
  },
  {
   "cell_type": "markdown",
   "metadata": {},
   "source": [
    "# Now let's try the keras_gym version\n",
    "\n",
    "This version is slower than the benchmark. I need to look into this."
   ]
  },
  {
   "cell_type": "code",
   "execution_count": 4,
   "metadata": {
    "scrolled": false
   },
   "outputs": [
    {
     "data": {
      "text/html": [
       "<div>\n",
       "<style scoped>\n",
       "    .dataframe tbody tr th:only-of-type {\n",
       "        vertical-align: middle;\n",
       "    }\n",
       "\n",
       "    .dataframe tbody tr th {\n",
       "        vertical-align: top;\n",
       "    }\n",
       "\n",
       "    .dataframe thead th {\n",
       "        text-align: right;\n",
       "    }\n",
       "</style>\n",
       "<table border=\"1\" class=\"dataframe\">\n",
       "  <thead>\n",
       "    <tr style=\"text-align: right;\">\n",
       "      <th>episode</th>\n",
       "      <th>9999</th>\n",
       "    </tr>\n",
       "  </thead>\n",
       "  <tbody>\n",
       "    <tr>\n",
       "      <th>lose</th>\n",
       "      <td>0.473</td>\n",
       "    </tr>\n",
       "    <tr>\n",
       "      <th>draw</th>\n",
       "      <td>0.082</td>\n",
       "    </tr>\n",
       "    <tr>\n",
       "      <th>win</th>\n",
       "      <td>0.445</td>\n",
       "    </tr>\n",
       "  </tbody>\n",
       "</table>\n",
       "</div>"
      ],
      "text/plain": [
       "episode   9999\n",
       "lose     0.473\n",
       "draw     0.082\n",
       "win      0.445"
      ]
     },
     "metadata": {},
     "output_type": "display_data"
    },
    {
     "name": "stdout",
     "output_type": "stream",
     "text": [
      "CPU times: user 30.5 s, sys: 2.36 s, total: 32.9 s\n",
      "Wall time: 26.4 s\n"
     ]
    },
    {
     "data": {
      "image/png": "[encoded data removed]",
      "text/plain": [
       "<Figure size 432x288 with 1 Axes>"
      ]
     },
     "metadata": {
      "needs_background": "light"
     },
     "output_type": "display_data"
    }
   ],
   "source": [
    "%%time\n",
    "\n",
    "import gym\n",
    "\n",
    "from tensorflow import keras\n",
    "\n",
    "from keras_gym.value_functions import LinearQ\n",
    "from keras_gym.policies import ValuePolicy\n",
    "from keras_gym.algorithms import MonteCarloQ\n",
    "\n",
    "\n",
    "\n",
    "# the Gym environment\n",
    "env = gym.make('Blackjack-v0')\n",
    "\n",
    "\n",
    "# define Q, its induced policy and update algorithm\n",
    "Q = LinearQ(env, optimizer=keras.optimizers.Adagrad(lr=0.1))\n",
    "policy = ValuePolicy(Q)\n",
    "algo = MonteCarloQ(Q, gamma=1)\n",
    "\n",
    "\n",
    "# number of iterations\n",
    "num_episodes = 10000\n",
    "max_episode_steps = 100\n",
    "\n",
    "\n",
    "# used for early stopping\n",
    "performance = []\n",
    "\n",
    "\n",
    "for episode in range(1, num_episodes + 1):\n",
    "    \n",
    "    # init\n",
    "    s = env.reset()\n",
    "    \n",
    "    # amount of random exploration\n",
    "    epsilon = np.clip(1 -  episode / (0.8 * num_episodes), 0, 1)\n",
    "    \n",
    "    done = False\n",
    "    while not done:\n",
    "        a = policy.epsilon_greedy(s, epsilon)\n",
    "        s_next, r, done, info = env.step(a)\n",
    "        \n",
    "        # update\n",
    "        algo.update(s, a, r, s_next, done)         \n",
    "    \n",
    "        # prepare for next step\n",
    "        s = s_next\n",
    "        \n",
    "    j = 1 + int(r)  # 0: loss, 1: draw, 2: win\n",
    "    performance.append(one_hot_vector(j, 3))\n",
    "\n",
    "\n",
    "env.close()\n",
    "process_performance(performance)\n"
   ]
  }
 ],
 "metadata": {
  "kernelspec": {
   "display_name": "Python 3",
   "language": "python",
   "name": "python3"
  },
  "language_info": {
   "codemirror_mode": {
    "name": "ipython",
    "version": 3
   },
   "file_extension": ".py",
   "mimetype": "text/x-python",
   "name": "python",
   "nbconvert_exporter": "python",
   "pygments_lexer": "ipython3",
   "version": "3.6.7"
  }
 },
 "nbformat": 4,
 "nbformat_minor": 2
}
