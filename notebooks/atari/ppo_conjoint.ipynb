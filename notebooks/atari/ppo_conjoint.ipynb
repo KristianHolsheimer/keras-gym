{
 "cells": [
  {
   "cell_type": "code",
   "execution_count": null,
   "metadata": {},
   "outputs": [],
   "source": [
    "!pip install keras-gym -U"
   ]
  },
  {
   "cell_type": "code",
   "execution_count": null,
   "metadata": {},
   "outputs": [],
   "source": [
    "# %load ../../scripts/atari/ppo_conjoint.py\n",
    "import gym\n",
    "import keras_gym as km\n",
    "\n",
    "\n",
    "# env with preprocessing\n",
    "env = gym.make('PongDeterministic-v4')\n",
    "env = km.wrappers.ImagePreprocessor(env, height=105, width=80, grayscale=True)\n",
    "env = km.wrappers.FrameStacker(env, num_frames=3)\n",
    "env = km.wrappers.TrainMonitor(env)\n",
    "\n",
    "# show logs from TrainMonitor\n",
    "km.enable_logging()\n",
    "\n",
    "\n",
    "# actor-critic with shared weights between pi(a|s) and v(s)\n",
    "func = km.predefined.AtariFunctionApproximator(env, lr=0.00025)\n",
    "actor_critic = km.ConjointActorCritic(\n",
    "    func,\n",
    "    gamma=0.99,\n",
    "    bootstrap_n=10,\n",
    "    update_strategy='ppo',\n",
    "    ppo_clipping=0.2,\n",
    "    entropy_bonus=0.01)\n",
    "\n",
    "v = actor_critic.value_function\n",
    "pi = actor_critic.policy\n",
    "\n",
    "\n",
    "# we'll use this to temporarily store our experience\n",
    "buffer = km.caching.ExperienceReplayBuffer.from_value_function(\n",
    "    v, capacity=256, batch_size=64)\n",
    "\n",
    "\n",
    "# run episodes\n",
    "while env.T < 3000000:\n",
    "    s = env.reset()\n",
    "\n",
    "    for t in range(env.spec.max_episode_steps):\n",
    "        a = pi(s, use_target_model=True)  # target_model == pi_old\n",
    "        s_next, r, done, info = env.step(a)\n",
    "\n",
    "        buffer.add(s, a, r, done, env.ep)\n",
    "\n",
    "        if len(buffer) >= buffer.capacity:\n",
    "            # use 4 epochs per round\n",
    "            num_batches = int(4 * buffer.capacity / buffer.batch_size)\n",
    "            for _ in range(num_batches):\n",
    "                actor_critic.batch_update(*buffer.sample())\n",
    "            buffer.clear()\n",
    "\n",
    "            # soft update (tau=1 would be a hard update)\n",
    "            actor_critic.sync_target_model(tau=0.1)\n",
    "\n",
    "        if done:\n",
    "            break\n",
    "\n",
    "        s = s_next\n",
    "\n",
    "    # generate an animated GIF to see what's going on\n",
    "    if env.ep % 50 == 0:\n",
    "        km.utils.generate_gif(\n",
    "            env=env,\n",
    "            policy=pi,\n",
    "            filepath='./data/ppo2/gifs/ep{:06d}.gif'.format(env.ep),\n",
    "            resize_to=(320, 420))\n"
   ]
  }
 ],
 "metadata": {
  "kernelspec": {
   "display_name": "Python 3",
   "language": "python",
   "name": "python3"
  },
  "language_info": {
   "codemirror_mode": {
    "name": "ipython",
    "version": 3
   },
   "file_extension": ".py",
   "mimetype": "text/x-python",
   "name": "python",
   "nbconvert_exporter": "python",
   "pygments_lexer": "ipython3",
   "version": "3.6.5"
  }
 },
 "nbformat": 4,
 "nbformat_minor": 2
}
