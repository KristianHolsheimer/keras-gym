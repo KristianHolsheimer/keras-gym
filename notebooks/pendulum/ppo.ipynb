{
 "cells": [
  {
   "cell_type": "code",
   "execution_count": 7,
   "metadata": {},
   "outputs": [
    {
     "name": "stdout",
     "output_type": "stream",
     "text": [
      "module reloaded: keras_gym.base.mixins\n",
      "module reloaded: keras_gym.base.errors\n",
      "module reloaded: keras_gym.base\n",
      "module reloaded: keras_gym.utils.tensor\n",
      "module reloaded: keras_gym.utils\n",
      "module reloaded: keras_gym.function_approximators.base\n",
      "module reloaded: keras_gym.function_approximators.generic\n",
      "module reloaded: keras_gym.function_approximators\n",
      "module reloaded: keras_gym\n",
      "Tensor(\"primary/policy/Z/stack:0\", shape=(?, 1, 2), dtype=float32)\n",
      "Model: \"model_4\"\n",
      "__________________________________________________________________________________________________\n",
      "Layer (type)                    Output Shape         Param #     Connected to                     \n",
      "==================================================================================================\n",
      "actor_critic/S (InputLayer)     [(None, 3)]          0                                            \n",
      "__________________________________________________________________________________________________\n",
      "primary/dense1 (Dense)          (None, 6)            24          actor_critic/S[0][0]             \n",
      "__________________________________________________________________________________________________\n",
      "primary/dense2 (Dense)          (None, 6)            42          primary/dense1[0][0]             \n",
      "__________________________________________________________________________________________________\n",
      "primary/policy/p (Dense)        (None, 1)            7           primary/dense2[0][0]             \n",
      "__________________________________________________________________________________________________\n",
      "primary/policy/n (Dense)        (None, 1)            7           primary/dense2[0][0]             \n",
      "__________________________________________________________________________________________________\n",
      "actor_critic/G (InputLayer)     [(None, 1)]          0                                            \n",
      "__________________________________________________________________________________________________\n",
      "primary/policy/Z (Lambda)       (None, 1, 2)         0           primary/policy/p[0][0]           \n",
      "                                                                 primary/policy/n[0][0]           \n",
      "__________________________________________________________________________________________________\n",
      "primary/value (Dense)           (None, 1)            7           primary/dense2[0][0]             \n",
      "==================================================================================================\n",
      "Total params: 87\n",
      "Trainable params: 87\n",
      "Non-trainable params: 0\n",
      "__________________________________________________________________________________________________\n"
     ]
    }
   ],
   "source": [
    "%reload keras_gym.base.mixins keras_gym.base.errors keras_gym.base\n",
    "%reload keras_gym.utils.tensor keras_gym.utils\n",
    "%reload keras_gym.function_approximators.base keras_gym.function_approximators.generic keras_gym.function_approximators keras_gym\n",
    "import keras_gym as km\n",
    "import tensorflow as tf\n",
    "keras = tf.keras\n",
    "K = keras.backend\n",
    "K.clear_session()\n",
    "\n",
    "env = gym.make('Pendulum-v0')\n",
    "# env.reset()\n",
    "\n",
    "\n",
    "class MLP(km.FunctionApproximator):\n",
    "    def body(self, X, variable_scope):\n",
    "        X = keras.layers.Dense(units=6, name=f'{variable_scope}/dense1')(X)\n",
    "        X = keras.layers.Dense(units=6, name=f'{variable_scope}/dense2')(X)\n",
    "        return X\n",
    "\n",
    "\n",
    "mlp = MLP(env, lr=0.001)\n",
    "ac = km.ConjointActorCritic(mlp)\n",
    "pi = ac.policy\n",
    "v = ac.value_function\n",
    "\n",
    "\n",
    "km.render_episode(env, pi)\n",
    "\n",
    "env.close()"
   ]
  }
 ],
 "metadata": {
  "kernelspec": {
   "display_name": "Python 3",
   "language": "python",
   "name": "python3"
  },
  "language_info": {
   "codemirror_mode": {
    "name": "ipython",
    "version": 3
   },
   "file_extension": ".py",
   "mimetype": "text/x-python",
   "name": "python",
   "nbconvert_exporter": "python",
   "pygments_lexer": "ipython3",
   "version": "3.6.8"
  }
 },
 "nbformat": 4,
 "nbformat_minor": 2
}
