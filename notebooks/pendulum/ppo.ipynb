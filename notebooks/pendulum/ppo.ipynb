{
 "cells": [
  {
   "cell_type": "code",
   "execution_count": null,
   "metadata": {},
   "outputs": [],
   "source": [
    "!pip install keras-gym -U"
   ]
  },
  {
   "cell_type": "code",
   "execution_count": null,
   "metadata": {},
   "outputs": [],
   "source": [
    "# %load ../../scripts/pendulum/ppo.py\n",
    "import gym\n",
    "import keras_gym as km\n",
    "from tensorflow import keras\n",
    "from tensorflow.keras import backend as K\n",
    "\n",
    "\n",
    "###############################################################################\n",
    "# environment (MDP)\n",
    "###############################################################################\n",
    "\n",
    "env = gym.make('Pendulum-v0')\n",
    "env = km.wrappers.BoxActionsToReals(env)\n",
    "env = km.wrappers.TrainMonitor(\n",
    "    env=env, tensorboard_dir='/tmp/tensorboard/pendulum/ppo_static')\n",
    "km.enable_logging()\n",
    "\n",
    "\n",
    "###############################################################################\n",
    "# function approximator\n",
    "###############################################################################\n",
    "\n",
    "class MLP(km.FunctionApproximator):\n",
    "    def body(self, X):\n",
    "        X = keras.layers.Lambda(\n",
    "            lambda x: K.concatenate([x, K.square(x)], axis=1))(X)\n",
    "        X = keras.layers.Dense(units=6, activation='tanh')(X)\n",
    "        X = keras.layers.Dense(units=6, activation='tanh')(X)\n",
    "        return X\n",
    "\n",
    "\n",
    "mlp = MLP(env, lr=1e-3)\n",
    "pi = km.GaussianPolicy(mlp, update_strategy='ppo')\n",
    "v = km.V(mlp, gamma=0.9, bootstrap_n=5)\n",
    "ac = km.ActorCritic(pi, v)\n",
    "\n",
    "\n",
    "buffer = km.caching.ExperienceReplayBuffer.from_value_function(\n",
    "    value_function=v, capacity=512, batch_size=32)\n",
    "\n",
    "\n",
    "###############################################################################\n",
    "# run\n",
    "###############################################################################\n",
    "\n",
    "while env.T < 1000000:\n",
    "    s = env.reset()\n",
    "    for t in range(env.spec.max_episode_steps):\n",
    "        a = pi(s, use_target_model=True)\n",
    "        s_next, r, done, info = env.step(a)\n",
    "\n",
    "        buffer.add(s, a, r, done, env.ep)\n",
    "        if len(buffer) >= buffer.capacity:\n",
    "            # use 4 epochs per round\n",
    "            num_batches = int(4 * buffer.capacity / buffer.batch_size)\n",
    "            for _ in range(num_batches):\n",
    "                ac.batch_update(*buffer.sample())\n",
    "            buffer.clear()\n",
    "            pi.sync_target_model(tau=0.1)\n",
    "\n",
    "        if done:\n",
    "            break\n",
    "\n",
    "        s = s_next\n"
   ]
  }
 ],
 "metadata": {
  "kernelspec": {
   "display_name": "Python 3",
   "language": "python",
   "name": "python3"
  },
  "language_info": {
   "codemirror_mode": {
    "name": "ipython",
    "version": 3
   },
   "file_extension": ".py",
   "mimetype": "text/x-python",
   "name": "python",
   "nbconvert_exporter": "python",
   "pygments_lexer": "ipython3",
   "version": "3.6.8"
  }
 },
 "nbformat": 4,
 "nbformat_minor": 2
}
