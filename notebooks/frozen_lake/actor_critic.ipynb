{
 "cells": [
  {
   "cell_type": "markdown",
   "metadata": {},
   "source": [
    "[![Open In Colab](https://colab.research.google.com/assets/colab-badge.svg)](https://colab.research.google.com/github/googlecolab/colabtools/blob/master/notebooks/colab-github-demo.ipynb)"
   ]
  },
  {
   "cell_type": "code",
   "execution_count": null,
   "metadata": {},
   "outputs": [],
   "source": [
    "!pip install keras-gym -U"
   ]
  },
  {
   "cell_type": "code",
   "execution_count": null,
   "metadata": {},
   "outputs": [],
   "source": [
    "# %load ../../scripts/frozen_lake/actor_critic.py\n",
    "import numpy as np\n",
    "import keras_gym as km\n",
    "from tensorflow import keras\n",
    "from tensorflow.keras import backend as K\n",
    "from gym.envs.toy_text.frozen_lake import FrozenLakeEnv, UP, DOWN, LEFT, RIGHT\n",
    "\n",
    "\n",
    "# the cart-pole MDP\n",
    "actions = {LEFT: 'L', RIGHT: 'R', UP: 'U', DOWN: 'D'}\n",
    "env = FrozenLakeEnv(is_slippery=False)\n",
    "env = km.wrappers.TrainMonitor(env)\n",
    "\n",
    "# show logs from TrainMonitor\n",
    "km.enable_logging()\n",
    "\n",
    "\n",
    "class LinearFunc(km.FunctionApproximator):\n",
    "    \"\"\" linear function approximator (body only does one-hot encoding) \"\"\"\n",
    "    def body(self, S, variable_scope):\n",
    "        one_hot_encoding = keras.layers.Lambda(lambda x: K.one_hot(x, 16))\n",
    "        return one_hot_encoding(S)\n",
    "\n",
    "\n",
    "# define function approximators\n",
    "func = LinearFunc(env, lr=0.01)\n",
    "pi = km.SoftmaxPolicy(func, update_strategy='ppo')\n",
    "v = km.V(func, gamma=0.9, bootstrap_n=1)\n",
    "\n",
    "\n",
    "# combine into one actor-critic\n",
    "actor_critic = km.ActorCritic(pi, v)\n",
    "\n",
    "\n",
    "# static parameters\n",
    "target_model_sync_period = 20\n",
    "num_episodes = 250\n",
    "num_steps = 30\n",
    "\n",
    "\n",
    "# train\n",
    "for ep in range(num_episodes):\n",
    "    s = env.reset()\n",
    "\n",
    "    for t in range(num_steps):\n",
    "        a = pi(s, use_target_model=True)\n",
    "        s_next, r, done, info = env.step(a)\n",
    "\n",
    "        # small incentive to keep moving\n",
    "        if np.array_equal(s_next, s):\n",
    "            r = -0.1\n",
    "\n",
    "        actor_critic.update(s, a, r, done)\n",
    "\n",
    "        if env.T % target_model_sync_period == 0:\n",
    "            pi.sync_target_model(tau=1.0)\n",
    "\n",
    "        if done:\n",
    "            break\n",
    "\n",
    "        s = s_next\n",
    "\n",
    "\n",
    "# run env one more time to render\n",
    "s = env.reset()\n",
    "env.render()\n",
    "\n",
    "for t in range(num_steps):\n",
    "\n",
    "    # print individual action probabilities\n",
    "    print(\"  v(s) = {:.3f}\".format(v(s)))\n",
    "    for i, p in enumerate(pi.proba(s)):\n",
    "        print(\"  π({:s}|s) = {:.3f}\".format(actions[i], p))\n",
    "\n",
    "    a = pi.greedy(s)\n",
    "    s, r, done, info = env.step(a)\n",
    "    env.render()\n",
    "\n",
    "    if done:\n",
    "        break\n"
   ]
  }
 ],
 "metadata": {
  "kernelspec": {
   "display_name": "Python 3",
   "language": "python",
   "name": "python3"
  },
  "language_info": {
   "codemirror_mode": {
    "name": "ipython",
    "version": 3
   },
   "file_extension": ".py",
   "mimetype": "text/x-python",
   "name": "python",
   "nbconvert_exporter": "python",
   "pygments_lexer": "ipython3",
   "version": "3.6.8"
  }
 },
 "nbformat": 4,
 "nbformat_minor": 2
}
