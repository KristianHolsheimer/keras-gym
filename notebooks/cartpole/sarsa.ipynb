{
 "cells": [
  {
   "cell_type": "code",
   "execution_count": 1,
   "metadata": {},
   "outputs": [
    {
     "name": "stdout",
     "output_type": "stream",
     "text": [
      "None\n",
      "{'gamma': 0.8, 'bootstrap_n': 1, 'update_strategy': 'sarsa', 'interaction': None, 'interaction_layer': None}\n"
     ]
    },
    {
     "ename": "AttributeError",
     "evalue": "missing attributes: env, train_model, predict_model, target_model, bootstrap_model, _cache",
     "output_type": "error",
     "traceback": [
      "\u001b[0;31m---------------------------------------------------------------------------\u001b[0m",
      "\u001b[0;31mAttributeError\u001b[0m                            Traceback (most recent call last)",
      "\u001b[0;32m<ipython-input-1-9d69f3b05444>\u001b[0m in \u001b[0;36m<module>\u001b[0;34m\u001b[0m\n\u001b[1;32m     11\u001b[0m \u001b[0;34m\u001b[0m\u001b[0m\n\u001b[1;32m     12\u001b[0m \u001b[0;31m# value function and its derived policy\u001b[0m\u001b[0;34m\u001b[0m\u001b[0;34m\u001b[0m\u001b[0;34m\u001b[0m\u001b[0m\n\u001b[0;32m---> 13\u001b[0;31m \u001b[0mQ\u001b[0m \u001b[0;34m=\u001b[0m \u001b[0mLinearQTypeI\u001b[0m\u001b[0;34m(\u001b[0m\u001b[0menv\u001b[0m\u001b[0;34m,\u001b[0m \u001b[0mlr\u001b[0m\u001b[0;34m=\u001b[0m\u001b[0;36m0.05\u001b[0m\u001b[0;34m,\u001b[0m \u001b[0mgamma\u001b[0m\u001b[0;34m=\u001b[0m\u001b[0;36m0.8\u001b[0m\u001b[0;34m,\u001b[0m \u001b[0mupdate_strategy\u001b[0m\u001b[0;34m=\u001b[0m\u001b[0;34m'sarsa'\u001b[0m\u001b[0;34m,\u001b[0m \u001b[0mbootstrap_n\u001b[0m\u001b[0;34m=\u001b[0m\u001b[0;36m1\u001b[0m\u001b[0;34m)\u001b[0m\u001b[0;34m\u001b[0m\u001b[0;34m\u001b[0m\u001b[0m\n\u001b[0m\u001b[1;32m     14\u001b[0m \u001b[0mpolicy\u001b[0m \u001b[0;34m=\u001b[0m \u001b[0mEpsilonGreedy\u001b[0m\u001b[0;34m(\u001b[0m\u001b[0mQ\u001b[0m\u001b[0;34m)\u001b[0m\u001b[0;34m\u001b[0m\u001b[0;34m\u001b[0m\u001b[0m\n\u001b[1;32m     15\u001b[0m \u001b[0;34m\u001b[0m\u001b[0m\n",
      "\u001b[0;32m~/git_tree/keras-gym/keras_gym/base/function_approximators/base.py\u001b[0m in \u001b[0;36mfunc\u001b[0;34m(self, *args, **kwargs)\u001b[0m\n\u001b[1;32m     37\u001b[0m                 \u001b[0minit\u001b[0m\u001b[0;34m(\u001b[0m\u001b[0mself\u001b[0m\u001b[0;34m,\u001b[0m \u001b[0;34m*\u001b[0m\u001b[0margs\u001b[0m\u001b[0;34m,\u001b[0m \u001b[0;34m**\u001b[0m\u001b[0mkwargs\u001b[0m\u001b[0;34m)\u001b[0m\u001b[0;34m\u001b[0m\u001b[0;34m\u001b[0m\u001b[0m\n\u001b[1;32m     38\u001b[0m                 \u001b[0mprint\u001b[0m\u001b[0;34m(\u001b[0m\u001b[0mvars\u001b[0m\u001b[0;34m(\u001b[0m\u001b[0mself\u001b[0m\u001b[0;34m)\u001b[0m\u001b[0;34m)\u001b[0m\u001b[0;34m\u001b[0m\u001b[0;34m\u001b[0m\u001b[0m\n\u001b[0;32m---> 39\u001b[0;31m                 \u001b[0mcheck_attrs\u001b[0m\u001b[0;34m(\u001b[0m\u001b[0mself\u001b[0m\u001b[0;34m)\u001b[0m\u001b[0;34m\u001b[0m\u001b[0;34m\u001b[0m\u001b[0m\n\u001b[0m\u001b[1;32m     40\u001b[0m             \u001b[0;32mreturn\u001b[0m \u001b[0mfunc\u001b[0m\u001b[0;34m\u001b[0m\u001b[0;34m\u001b[0m\u001b[0m\n\u001b[1;32m     41\u001b[0m \u001b[0;34m\u001b[0m\u001b[0m\n",
      "\u001b[0;32m~/git_tree/keras-gym/keras_gym/base/function_approximators/base.py\u001b[0m in \u001b[0;36mcheck_attrs\u001b[0;34m(obj)\u001b[0m\n\u001b[1;32m     31\u001b[0m             \u001b[0;32mif\u001b[0m \u001b[0mmissing_attrs\u001b[0m\u001b[0;34m:\u001b[0m\u001b[0;34m\u001b[0m\u001b[0;34m\u001b[0m\u001b[0m\n\u001b[1;32m     32\u001b[0m                 raise AttributeError(\n\u001b[0;32m---> 33\u001b[0;31m                     \"missing attributes: {}\".format(missing_attrs))\n\u001b[0m\u001b[1;32m     34\u001b[0m \u001b[0;34m\u001b[0m\u001b[0m\n\u001b[1;32m     35\u001b[0m         \u001b[0;32mdef\u001b[0m \u001b[0mdec\u001b[0m\u001b[0;34m(\u001b[0m\u001b[0minit\u001b[0m\u001b[0;34m)\u001b[0m\u001b[0;34m:\u001b[0m\u001b[0;34m\u001b[0m\u001b[0;34m\u001b[0m\u001b[0m\n",
      "\u001b[0;31mAttributeError\u001b[0m: missing attributes: env, train_model, predict_model, target_model, bootstrap_model, _cache"
     ]
    }
   ],
   "source": [
    "import gym\n",
    "\n",
    "from keras_gym.preprocessing import DefaultPreprocessor\n",
    "from keras_gym.value_functions import LinearQTypeI\n",
    "from keras_gym.policies import EpsilonGreedy\n",
    "\n",
    "\n",
    "# env with preprocessing\n",
    "env = gym.make('CartPole-v0')\n",
    "env = DefaultPreprocessor(env)\n",
    "\n",
    "# value function and its derived policy\n",
    "Q = LinearQTypeI(env, lr=0.05, gamma=0.8, update_strategy='sarsa', bootstrap_n=1)\n",
    "policy = EpsilonGreedy(Q)\n",
    "\n",
    "# # static parameters\n",
    "# num_episodes = 200\n",
    "# num_steps = env.spec.max_episode_steps\n",
    "\n",
    "# # used for early stopping\n",
    "# num_consecutive_successes = 0\n",
    "\n",
    "\n",
    "# # train\n",
    "# for ep in range(num_episodes):\n",
    "#     s = env.reset()\n",
    "#     epsilon = 0.5 if ep < 10 else 0.1\n",
    "\n",
    "#     for t in range(num_steps):\n",
    "#         a = policy(s, epsilon)\n",
    "#         s_next, r, done, info = env.step(a)\n",
    "\n",
    "#         Q.update(s, a, r, done)\n",
    "\n",
    "#         if done:\n",
    "#             if t == num_steps - 1:\n",
    "#                 num_consecutive_successes += 1\n",
    "#                 print(\"num_consecutive_successes: {}\"\n",
    "#                       .format(num_consecutive_successes))\n",
    "#             else:\n",
    "#                 num_consecutive_successes = 0\n",
    "#                 print(\"failed after {} steps\".format(t))\n",
    "#             break\n",
    "\n",
    "#         s = s_next\n",
    "\n",
    "#     if num_consecutive_successes == 10:\n",
    "#         break\n",
    "\n",
    "\n",
    "# # run env one more time to render\n",
    "# s = env.reset()\n",
    "# env.render()\n",
    "\n",
    "# for t in range(num_steps):\n",
    "\n",
    "#     a = policy(s, epsilon=0)\n",
    "#     s, r, done, info = env.step(a)\n",
    "#     env.render()\n",
    "\n",
    "#     if done:\n",
    "#         break\n",
    "\n",
    "# env.close()"
   ]
  },
  {
   "cell_type": "code",
   "execution_count": 3,
   "metadata": {},
   "outputs": [
    {
     "data": {
      "text/plain": [
       "keras_gym.base.function_approximators.linear.LinearQTypeI"
      ]
     },
     "execution_count": 3,
     "metadata": {},
     "output_type": "execute_result"
    }
   ],
   "source": [
    "LinearQTypeI"
   ]
  }
 ],
 "metadata": {
  "kernelspec": {
   "display_name": "Python 3",
   "language": "python",
   "name": "python3"
  }
 },
 "nbformat": 4,
 "nbformat_minor": 2
}
