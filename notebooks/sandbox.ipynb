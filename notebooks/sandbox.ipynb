{
 "cells": [
  {
   "cell_type": "code",
   "execution_count": 83,
   "metadata": {},
   "outputs": [
    {
     "name": "stdout",
     "output_type": "stream",
     "text": [
      "'..' already existed in sys.path, skipping\n",
      "module reloaded: skgym.policies.base\n",
      "module reloaded: skgym.policies.value_based\n",
      "module reloaded: skgym.value_functions.base\n",
      "module reloaded: skgym.value_functions.generic\n",
      "module reloaded: skgym.value_functions.predefined\n",
      "<class 'skgym.value_functions.predefined.LinearQ'>\n",
      "model type: 1\n",
      "(2, 1) (2, 1)\n",
      "(1,) (1,) (1,)\n"
     ]
    },
    {
     "name": "stderr",
     "output_type": "stream",
     "text": [
      "C:\\Users\\krholshe\\AppData\\Roaming\\Python\\Python36\\site-packages\\gym\\envs\\registration.py:14: PkgResourcesDeprecationWarning: Parameters to load are deprecated.  Call .resolve and .require separately.\n",
      "  result = entry_point.load(False)\n"
     ]
    }
   ],
   "source": [
    "%addpath --prepend ..\n",
    "%reload skgym.policies.base skgym.policies.value_based skgym.value_functions.base skgym.value_functions.generic skgym.value_functions.predefined\n",
    "\n",
    "from skgym.utils import one_hot_vector\n",
    "from skgym.value_functions.predefined import LinearQ\n",
    "from skgym.policies.value_based import ValuePolicy\n",
    "\n",
    "env = gym.make('CartPole-v0')\n",
    "s = env.reset()\n",
    "a = env.action_space.sample()\n",
    "s_next, r = env.step(a)[:2]\n",
    "env.close()\n",
    "\n",
    "q = LinearQ(env, model_type=1)\n",
    "pi = ValuePolicy(q)\n",
    "self = pi\n",
    "\n",
    "\n",
    "A = np.array([a])\n",
    "R = np.array([r])\n",
    "\n",
    "if self.q.MODELTYPE == 1:\n",
    "    print(\"model type: 1\")\n",
    "    n = env.action_space.n\n",
    "    X = self.preprocess(s, a)\n",
    "    Q = self.q.batch_eval(X)\n",
    "    X_next = np.stack([self.preprocess(s_next, a_next) for a_next in range(n)])\n",
    "    Q_next = self.q.batch_eval(X_next.reshape([-1, X_next.shape[2]])).reshape([n, -1])\n",
    "    P = self.batch_eval(X_next)\n",
    "elif self.q.MODELTYPE == 2:\n",
    "    print(\"model type: 2\")\n",
    "    X = self.preprocess(s)\n",
    "    Q = self.batch_eval(X, A)\n",
    "    X_next = self.preprocess(s_next)\n",
    "    Q_next = self.batch_eval(X_next)\n",
    "\n",
    "\n",
    "print(P.shape, Q_next.shape)\n",
    "\n",
    "Q_next = np.einsum('ij,ij->j', P, Q_next)\n",
    "\n",
    "print(Q.shape, R.shape, Q_next.shape)\n",
    "\n"
   ]
  },
  {
   "cell_type": "code",
   "execution_count": 10,
   "metadata": {},
   "outputs": [],
   "source": [
    "import skgym.value_functions.generic"
   ]
  },
  {
   "cell_type": "code",
   "execution_count": null,
   "metadata": {},
   "outputs": [],
   "source": []
  },
  {
   "cell_type": "code",
   "execution_count": 282,
   "metadata": {},
   "outputs": [
    {
     "name": "stdout",
     "output_type": "stream",
     "text": [
      "'..' already existed in sys.path, skipping\n",
      "module reloaded: skgym.utils\n",
      "module reloaded: skgym.value_functions.base\n",
      "module reloaded: skgym.value_functions.generic\n",
      "module reloaded: skgym.policies.base\n",
      "module reloaded: skgym.policies.value_based\n",
      "module reloaded: skgym.algorithms.base\n",
      "module reloaded: skgym.algorithms.td0\n",
      "[0] [0] [1.]\n",
      "[[1. 0.]] [0. 0.]\n",
      "[0.71168577 0.28831423]\n",
      "[-0.02289795  0.03282869 -0.02573561 -0.03102614]\n",
      "[0. 0. 0. 0.]\n"
     ]
    },
    {
     "name": "stderr",
     "output_type": "stream",
     "text": [
      "/usr/local/lib/python3.6/dist-packages/gym/envs/registration.py:14: PkgResourcesDeprecationWarning: Parameters to load are deprecated.  Call .resolve and .require separately.\n",
      "  result = entry_point.load(False)\n"
     ]
    },
    {
     "data": {
      "text/plain": [
       "array([0.71168577, 0.28831423])"
      ]
     },
     "execution_count": 282,
     "metadata": {},
     "output_type": "execute_result"
    }
   ],
   "source": [
    "%addpath --prepend ..\n",
    "%reload skgym.utils\n",
    "%reload skgym.value_functions.base skgym.value_functions.generic\n",
    "%reload skgym.policies.base skgym.policies.value_based\n",
    "%reload skgym.algorithms.base skgym.algorithms.td0\n",
    "\n",
    "from sklearn.linear_model import SGDRegressor\n",
    "from skgym.value_functions.generic import GenericV, GenericQ, GenericQTypeI, GenericQTypeII\n",
    "from skgym.policies.value_based import ValueBasedPolicy\n",
    "from skgym.algorithms.td0 import QLearning\n",
    "\n",
    "\n",
    "    \n",
    "env = gym.make('CartPole-v0')\n",
    "s = env.reset()\n",
    "a = env.action_space.sample()\n",
    "s_next, r = env.step(a)[:2]\n",
    "env.close()\n",
    "\n",
    "# V = GenericV(env, SGDRegressor(eta0=0.9, power_t=0))\n",
    "# V(s)\n",
    "\n",
    "\n",
    "# Q = GenericQTypeI(env, SGDRegressor(eta0=0.9, power_t=0))\n",
    "Q = GenericQTypeII(env, SGDRegressor(eta0=0.9, power_t=0))\n",
    "\n",
    "\n",
    "P = ValueBasedPolicy(Q)\n",
    "\n",
    "\n",
    "algo = QLearning(P)\n",
    "X, A, R, X_next = algo.preprocess_transition(s, a, r, s_next)\n",
    "Y = algo.Y(X, A, R, X_next)\n",
    "print(Y, Q(s))\n",
    "\n",
    "\n",
    "\n",
    "Q.update(X, Y)\n",
    "print(P.proba(s).p)\n",
    "print(P.value_function.regressor.estimators_[a].coef_)\n",
    "print(P.value_function.regressor.estimators_[1-a].coef_)\n",
    "\n",
    "Q(s)\n",
    "P.proba(s).p\n",
    "# P.random(), P.thompson(s), P.greedy(s)\n"
   ]
  },
  {
   "cell_type": "code",
   "execution_count": 91,
   "metadata": {
    "scrolled": true
   },
   "outputs": [
    {
     "name": "stdout",
     "output_type": "stream",
     "text": [
      "module reloaded: skgym.utils\n",
      "d = ArrayDeque(shape=[], maxlen=3)\n",
      "\n",
      "d._idx        2\n",
      "d._len        0\n",
      "d._array\n",
      "[[[ 40. 400.]]\n",
      "\n",
      " [[ 60. 600.]]\n",
      "\n",
      " [[ 30. 300.]]]\n",
      "\n",
      "start=0, end=0\n",
      "d.array\n",
      "[]\n",
      "\n",
      "start=0, end=0\n",
      "d.array.shape (0, 1, 2)\n",
      "\n",
      "d.append([[10, 100]])\n",
      "\n",
      "d._idx        0\n",
      "d._len        1\n",
      "d._array\n",
      "[[[ 10. 100.]]\n",
      "\n",
      " [[ 60. 600.]]\n",
      "\n",
      " [[ 30. 300.]]]\n",
      "\n",
      "start=0, end=1\n",
      "d.array\n",
      "[[[ 10. 100.]]]\n",
      "\n",
      "start=0, end=1\n",
      "d.array.shape (1, 1, 2)\n",
      "\n",
      "d.append([[20, 200]])\n",
      "\n",
      "d._idx        1\n",
      "d._len        2\n",
      "d._array\n",
      "[[[ 10. 100.]]\n",
      "\n",
      " [[ 20. 200.]]\n",
      "\n",
      " [[ 30. 300.]]]\n",
      "\n",
      "start=0, end=2\n",
      "d.array\n",
      "[[[ 10. 100.]]\n",
      "\n",
      " [[ 20. 200.]]]\n",
      "\n",
      "start=0, end=2\n",
      "d.array.shape (2, 1, 2)\n",
      "\n",
      "d.append([[30, 300]])\n",
      "\n",
      "d._idx        2\n",
      "d._len        3\n",
      "d._array\n",
      "[[[ 10. 100.]]\n",
      "\n",
      " [[ 20. 200.]]\n",
      "\n",
      " [[ 30. 300.]]]\n",
      "\n",
      "start=0, end=3\n",
      "d.array\n",
      "[[[ 10. 100.]]\n",
      "\n",
      " [[ 20. 200.]]\n",
      "\n",
      " [[ 30. 300.]]]\n",
      "\n",
      "start=0, end=3\n",
      "d.array.shape (3, 1, 2)\n",
      "\n",
      "d.append([[40, 400]])\n",
      "\n",
      "d._idx        0\n",
      "d._len        3\n",
      "d._array\n",
      "[[[ 40. 400.]]\n",
      "\n",
      " [[ 20. 200.]]\n",
      "\n",
      " [[ 30. 300.]]]\n",
      "\n",
      "start=1, end=4\n",
      "d.array\n",
      "[[[ 20. 200.]]\n",
      "\n",
      " [[ 30. 300.]]\n",
      "\n",
      " [[ 40. 400.]]]\n",
      "\n",
      "start=1, end=4\n",
      "d.array.shape (3, 1, 2)\n",
      "\n",
      "d.append([[50, 500]])\n",
      "\n",
      "d._idx        1\n",
      "d._len        3\n",
      "d._array\n",
      "[[[ 40. 400.]]\n",
      "\n",
      " [[ 50. 500.]]\n",
      "\n",
      " [[ 30. 300.]]]\n",
      "\n",
      "start=2, end=5\n",
      "d.array\n",
      "[[[ 30. 300.]]\n",
      "\n",
      " [[ 40. 400.]]\n",
      "\n",
      " [[ 50. 500.]]]\n",
      "\n",
      "start=2, end=5\n",
      "d.array.shape (3, 1, 2)\n",
      "\n",
      "d.pop()  # 500\n",
      "\n",
      "d._idx        0\n",
      "d._len        2\n",
      "d._array\n",
      "[[[ 40. 400.]]\n",
      "\n",
      " [[ 50. 500.]]\n",
      "\n",
      " [[ 30. 300.]]]\n",
      "\n",
      "start=2, end=4\n",
      "d.array\n",
      "[[[ 30. 300.]]\n",
      "\n",
      " [[ 40. 400.]]]\n",
      "\n",
      "start=2, end=4\n",
      "d.array.shape (2, 1, 2)\n",
      "\n",
      "d.append([[60, 600]])\n",
      "\n",
      "d._idx        1\n",
      "d._len        3\n",
      "d._array\n",
      "[[[ 40. 400.]]\n",
      "\n",
      " [[ 60. 600.]]\n",
      "\n",
      " [[ 30. 300.]]]\n",
      "\n",
      "start=2, end=5\n",
      "d.array\n",
      "[[[ 30. 300.]]\n",
      "\n",
      " [[ 40. 400.]]\n",
      "\n",
      " [[ 60. 600.]]]\n",
      "\n",
      "start=2, end=5\n",
      "d.array.shape (3, 1, 2)\n",
      "\n",
      "d.popleft()\n",
      "\n",
      "d._idx        1\n",
      "d._len        2\n",
      "d._array\n",
      "[[[ 40. 400.]]\n",
      "\n",
      " [[ 60. 600.]]\n",
      "\n",
      " [[ 30. 300.]]]\n",
      "\n",
      "start=0, end=2\n",
      "d.array\n",
      "[[[ 40. 400.]]\n",
      "\n",
      " [[ 60. 600.]]]\n",
      "\n",
      "start=0, end=2\n",
      "d.array.shape (2, 1, 2)\n",
      "\n"
     ]
    }
   ],
   "source": [
    "%reload skgym.utils\n",
    "from skgym.utils import ArrayDeque\n",
    "from collections import deque\n",
    "\n",
    "def print_info(d):\n",
    "    print()\n",
    "    print(f\"d._idx        {d._idx}\")\n",
    "    print(f\"d._len        {d._len}\")\n",
    "    print(f\"d._array\\n{d._array}\\n\")\n",
    "    print(f\"d.array\\n{d.array}\\n\")\n",
    "    print(f\"d.array.shape {d.array.shape}\")\n",
    "    print()\n",
    "\n",
    "\n",
    "print(\"d = ArrayDeque(shape=[], maxlen=3)\")\n",
    "d = ArrayDeque(shape=[1,2], maxlen=3)\n",
    "print_info(d)\n",
    "\n",
    "print(\"d.append([[10, 100]])\")\n",
    "d.append([[10, 100]])\n",
    "print_info(d)\n",
    "\n",
    "print(\"d.append([[20, 200]])\")\n",
    "d.append([[20, 200]])\n",
    "print_info(d)\n",
    "\n",
    "print(\"d.append([[30, 300]])\")\n",
    "d.append([[30, 300]])\n",
    "print_info(d)\n",
    "\n",
    "print(\"d.append([[40, 400]])\")\n",
    "d.append([[40, 400]])\n",
    "print_info(d)\n",
    "\n",
    "print(\"d.append([[50, 500]])\")\n",
    "d.append([[50, 500]])\n",
    "print_info(d)\n",
    "\n",
    "print(\"d.pop()  # 500\")\n",
    "d.pop()  # 500\n",
    "print_info(d)\n",
    "\n",
    "print(\"d.append([[60, 600]])\")\n",
    "d.append([[60, 600]])\n",
    "print_info(d)\n",
    "\n",
    "print(\"d.popleft()\")\n",
    "d.popleft()  # 300\n",
    "print_info(d)\n"
   ]
  },
  {
   "cell_type": "code",
   "execution_count": 147,
   "metadata": {},
   "outputs": [
    {
     "name": "stdout",
     "output_type": "stream",
     "text": [
      "module reloaded: skgym.algorithms.base\n",
      "module reloaded: skgym.algorithms.td0\n",
      "module reloaded: skgym.value_functions.predefined\n",
      "(1, 8)\n",
      "(1, 8)\n",
      "R.shape=(1,), Q_next.shape=(1,)\n"
     ]
    },
    {
     "name": "stderr",
     "output_type": "stream",
     "text": [
      "/usr/local/lib/python3.6/dist-packages/gym/envs/registration.py:14: PkgResourcesDeprecationWarning: Parameters to load are deprecated.  Call .resolve and .require separately.\n",
      "  result = entry_point.load(False)\n"
     ]
    },
    {
     "data": {
      "text/plain": [
       "array([1.])"
      ]
     },
     "execution_count": 147,
     "metadata": {},
     "output_type": "execute_result"
    }
   ],
   "source": [
    "%reload skgym.algorithms.base skgym.algorithms.td0 skgym.value_functions.predefined\n",
    "from skgym.algorithms.td0 import Sarsa\n",
    "from skgym.value_functions.predefined import LinearQ\n",
    "\n",
    "env = gym.make('CartPole-v0')\n",
    "q = LinearQ(env, model_type=2)\n",
    "algo = Sarsa(q)\n",
    "\n",
    "# s = env.reset()\n",
    "# a = env.action_space.sample()\n",
    "# a_next = env.action_space.sample()\n",
    "# s_next, r = env.step(a)[:2]\n",
    "# env.close()\n",
    "\n",
    "if q.MODELTYPE == 1:\n",
    "    print(q.preprocess(s, a).shape)\n",
    "else:\n",
    "    print(q.preprocess(s).shape)\n",
    "\n",
    "X, R, X_next = algo.preprocess_transition(s, a, r, s_next)\n",
    "\n",
    "print(X.shape)\n",
    "\n",
    "Q_next = algo.value_function.batch_eval(X_next)\n",
    "algo.target(R, X_next, a_next)"
   ]
  },
  {
   "cell_type": "code",
   "execution_count": 353,
   "metadata": {},
   "outputs": [
    {
     "data": {
      "image/png": "[encoded data removed]",
      "text/plain": [
       "<Figure size 432x288 with 1 Axes>"
      ]
     },
     "metadata": {
      "needs_background": "light"
     },
     "output_type": "display_data"
    },
    {
     "data": {
      "text/plain": [
       "array([<matplotlib.axes._subplots.AxesSubplot object at 0x7fdc00d5bef0>],\n",
       "      dtype=object)"
      ]
     },
     "execution_count": 353,
     "metadata": {},
     "output_type": "execute_result"
    },
    {
     "data": {
      "image/png": "[encoded data removed]",
      "text/plain": [
       "<Figure size 432x288 with 1 Axes>"
      ]
     },
     "metadata": {
      "needs_background": "light"
     },
     "output_type": "display_data"
    },
    {
     "data": {
      "image/png": "[encoded data removed]",
      "text/plain": [
       "<Figure size 432x288 with 1 Axes>"
      ]
     },
     "metadata": {
      "needs_background": "light"
     },
     "output_type": "display_data"
    }
   ],
   "source": []
  },
  {
   "cell_type": "code",
   "execution_count": 241,
   "metadata": {},
   "outputs": [
    {
     "data": {
      "text/plain": [
       "(array([1., 0., 1., 0., 1., 1., 0., 0., 0., 0., 0., 0., 0., 0., 0., 0., 0.,\n",
       "        1., 0., 0., 0., 0., 0., 0., 0., 1., 1., 0., 0., 0., 0., 0., 0., 0.,\n",
       "        0., 0., 0., 0., 0., 1., 0., 0., 0., 0., 0., 0., 1., 0., 0., 1., 0.,\n",
       "        0., 0., 1., 0., 2., 1., 1., 0., 0., 0., 2., 0., 0., 0., 0., 0., 0.,\n",
       "        0., 0., 0., 0., 0., 0., 1., 0., 0., 1., 0., 0., 0., 1., 0., 0., 1.,\n",
       "        0., 1., 0., 0., 0., 0., 1., 0., 0., 1., 1., 0., 0., 0., 1.]),\n",
       " array([1.52387919, 1.53534196, 1.54680472, 1.55826749, 1.56973026,\n",
       "        1.58119302, 1.59265579, 1.60411856, 1.61558132, 1.62704409,\n",
       "        1.63850685, 1.64996962, 1.66143239, 1.67289515, 1.68435792,\n",
       "        1.69582069, 1.70728345, 1.71874622, 1.73020899, 1.74167175,\n",
       "        1.75313452, 1.76459729, 1.77606005, 1.78752282, 1.79898558,\n",
       "        1.81044835, 1.82191112, 1.83337388, 1.84483665, 1.85629942,\n",
       "        1.86776218, 1.87922495, 1.89068772, 1.90215048, 1.91361325,\n",
       "        1.92507602, 1.93653878, 1.94800155, 1.95946431, 1.97092708,\n",
       "        1.98238985, 1.99385261, 2.00531538, 2.01677815, 2.02824091,\n",
       "        2.03970368, 2.05116645, 2.06262921, 2.07409198, 2.08555475,\n",
       "        2.09701751, 2.10848028, 2.11994304, 2.13140581, 2.14286858,\n",
       "        2.15433134, 2.16579411, 2.17725688, 2.18871964, 2.20018241,\n",
       "        2.21164518, 2.22310794, 2.23457071, 2.24603348, 2.25749624,\n",
       "        2.26895901, 2.28042177, 2.29188454, 2.30334731, 2.31481007,\n",
       "        2.32627284, 2.33773561, 2.34919837, 2.36066114, 2.37212391,\n",
       "        2.38358667, 2.39504944, 2.40651221, 2.41797497, 2.42943774,\n",
       "        2.4409005 , 2.45236327, 2.46382604, 2.4752888 , 2.48675157,\n",
       "        2.49821434, 2.5096771 , 2.52113987, 2.53260264, 2.5440654 ,\n",
       "        2.55552817, 2.56699094, 2.5784537 , 2.58991647, 2.60137923,\n",
       "        2.612842  , 2.62430477, 2.63576753, 2.6472303 , 2.65869307,\n",
       "        2.67015583]),\n",
       " <a list of 100 Patch objects>)"
      ]
     },
     "execution_count": 241,
     "metadata": {},
     "output_type": "execute_result"
    },
    {
     "data": {
      "image/png": "[encoded data removed]",
      "text/plain": [
       "<Figure size 432x288 with 1 Axes>"
      ]
     },
     "metadata": {
      "needs_background": "light"
     },
     "output_type": "display_data"
    }
   ],
   "source": [
    "plt.hist(zs, bins=100)"
   ]
  }
 ],
 "metadata": {
  "kernelspec": {
   "display_name": "Python 3",
   "language": "python",
   "name": "python3"
  },
  "language_info": {
   "codemirror_mode": {
    "name": "ipython",
    "version": 3
   },
   "file_extension": ".py",
   "mimetype": "text/x-python",
   "name": "python",
   "nbconvert_exporter": "python",
   "pygments_lexer": "ipython3",
   "version": "3.6.7"
  }
 },
 "nbformat": 4,
 "nbformat_minor": 2
}
