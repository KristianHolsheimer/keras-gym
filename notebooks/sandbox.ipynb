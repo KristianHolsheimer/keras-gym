{
 "cells": [
  {
   "cell_type": "code",
   "execution_count": 1,
   "metadata": {},
   "outputs": [
    {
     "data": {
      "text/plain": [
       "<module 'keras_gym' from '/mnt/c/Users/krholshe/GoogleDrive/keras-gym/keras_gym/__init__.py'>"
      ]
     },
     "execution_count": 1,
     "metadata": {},
     "output_type": "execute_result"
    }
   ],
   "source": [
    "import keras_gym as km\n",
    "km"
   ]
  },
  {
   "cell_type": "code",
   "execution_count": 2,
   "metadata": {},
   "outputs": [
    {
     "name": "stdout",
     "output_type": "stream",
     "text": [
      "ActorCritic\n",
      "ConjointActorCritic\n",
      "EpsilonGreedy\n",
      "FunctionApproximator\n",
      "QTypeI\n",
      "QTypeII\n",
      "RandomPolicy\n",
      "SoftmaxPolicy\n",
      "UserInputPolicy\n",
      "V\n",
      "base\n",
      "caching\n",
      "envs\n",
      "function_approximators\n",
      "losses\n",
      "planning\n",
      "policies\n",
      "predefined\n",
      "utils\n",
      "wrappers\n"
     ]
    }
   ],
   "source": [
    "for x in dir(km):\n",
    "    if x.startswith('__'):\n",
    "        continue\n",
    "    print(x)"
   ]
  },
  {
   "cell_type": "code",
   "execution_count": 5,
   "metadata": {},
   "outputs": [
    {
     "data": {
      "text/plain": [
       "(105, 80, 5)"
      ]
     },
     "execution_count": 5,
     "metadata": {},
     "output_type": "execute_result"
    }
   ],
   "source": [
    "env = gym.make('PongDeterministic-v4')\n",
    "env = km.wrappers.ImagePreprocessor(env, height=105, width=80, grayscale=True)\n",
    "env = km.wrappers.FrameStacker(env, num_frames=5)\n",
    "\n",
    "s = env.unwrapped.reset()  # s.shape ==\n",
    "s = env.reset()  # s.shape ==\n",
    "s.shape"
   ]
  }
 ],
 "metadata": {
  "kernelspec": {
   "display_name": "Python 3",
   "language": "python",
   "name": "python3"
  },
  "language_info": {
   "codemirror_mode": {
    "name": "ipython",
    "version": 3
   },
   "file_extension": ".py",
   "mimetype": "text/x-python",
   "name": "python",
   "nbconvert_exporter": "python",
   "pygments_lexer": "ipython3",
   "version": "3.6.7"
  }
 },
 "nbformat": 4,
 "nbformat_minor": 2
}
