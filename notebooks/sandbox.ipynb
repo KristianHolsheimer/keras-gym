{
 "cells": [
  {
   "cell_type": "code",

   "metadata": {},
   "outputs": [
    {
     "data": {
      "text/plain": [
       "(array([-0.0091222 , -0.04271299, -0.04176206,  0.03620248]),\n",
       " array([-0.00997646, -0.23721196, -0.04103802,  0.31542207]))"
      ]
     },
     "execution_count": 4,
     "metadata": {},
     "output_type": "execute_result"
    }
   ],
   "source": [
    "import gym\n",
    "import keras_gym as km\n",
    "from tensorflow import keras\n",
    "K = keras.backend\n",
    "\n",
    "env = gym.make('CartPole-v0')\n",
    "\n",
    "\n",
    "# intial state\n",
    "s = env.reset()\n",
    "\n",
    "# draw action\n",
    "policy = km.RandomPolicy(env)\n",
    "a = policy(s)\n",
    "\n",
    "# get next state and reward\n",
    "s_next, r, done, info = env.step(a)\n",
    "\n",
    "s, s_next\n"
   ]
  },
  {
   "cell_type": "code",
   "execution_count": 2,
   "metadata": {},
   "outputs": [],
   "source": [
    "km.render_episode(env, policy, step_delay_ms=50)"
   ]
  },
  {
   "cell_type": "code",
   "execution_count": 13,
   "metadata": {
    "scrolled": true
   },
   "outputs": [
    {
     "name": "stdout",
     "output_type": "stream",
     "text": [
      "failed after 52 steps\n",
      "failed after 10 steps\n",
      "failed after 9 steps\n",
      "failed after 12 steps\n",
      "failed after 11 steps\n",
      "failed after 11 steps\n",
      "failed after 8 steps\n",
      "failed after 9 steps\n",
      "failed after 9 steps\n",
      "failed after 9 steps\n",
      "failed after 10 steps\n",
      "failed after 10 steps\n",
      "failed after 11 steps\n",
      "failed after 9 steps\n",
      "failed after 9 steps\n",
      "failed after 8 steps\n",
      "failed after 10 steps\n",
      "failed after 8 steps\n",
      "failed after 10 steps\n",
      "failed after 8 steps\n",
      "failed after 8 steps\n",
      "failed after 9 steps\n",
      "failed after 71 steps\n",
      "failed after 10 steps\n",
      "failed after 10 steps\n",
      "successes: 1\n",
      "successes: 2\n",
      "successes: 3\n",
      "successes: 4\n",
      "successes: 5\n",
      "successes: 6\n",
      "successes: 7\n",
      "successes: 8\n",
      "successes: 9\n",
      "successes: 10\n"
     ]
    }
   ],
   "source": [
    "# function approximator\n",
    "class Linear(km.FunctionApproximator):\n",
    "    def body(self, S, variable_scope):\n",
    "        X = keras.layers.Flatten()(S)\n",
    "        return X\n",
    "\n",
    "\n",
    "func = Linear(env, lr=0.001)\n",
    "q = km.QTypeI(func, update_strategy='sarsa', bootstrap_n=1)\n",
    "policy = km.EpsilonGreedy(q)\n",
    "\n",
    "\n",
    "success = 0\n",
    "for ep in range(100):\n",
    "    s = env.reset()\n",
    "    policy.epsilon = 0.1 if ep < 10 else 0.01\n",
    "    \n",
    "    for t in range(env.spec.max_episode_steps):\n",
    "        a = policy(s)\n",
    "        s_next, r, done, info = env.step(a)\n",
    "        \n",
    "        q.update(s, a, r, done)\n",
    "\n",
    "        if done:\n",
    "            if t + 1 == env.spec.max_episode_steps:\n",
    "                success += 1 \n",
    "                print(\"successes: {}\".format(success))\n",
    "            else:\n",
    "                success = 0\n",
    "                print(\"failed after {} steps\".format(t + 1))\n",
    "            break\n",
    "\n",
    "        s = s_next\n",
    "        \n",
    "    if success == 10:\n",
    "        break\n",
    "\n"
   ]
  },
  {
   "cell_type": "code",
   "execution_count": 12,
   "metadata": {},
   "outputs": [],
   "source": [
    "km.render_episode(env, policy.set_epsilon(0), step_delay_ms=10)"
   ]
  }
 ],
 "metadata": {
  "kernelspec": {
   "display_name": "Python 3",
   "language": "python",
   "name": "python3"
  },
  "language_info": {
   "codemirror_mode": {
    "name": "ipython",
    "version": 3
   },
   "file_extension": ".py",
   "mimetype": "text/x-python",
   "name": "python",
   "nbconvert_exporter": "python",
   "pygments_lexer": "ipython3",

  }
 },
 "nbformat": 4,
 "nbformat_minor": 2
}
