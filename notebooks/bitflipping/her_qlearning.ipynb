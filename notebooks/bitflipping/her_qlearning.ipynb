{
 "cells": [
  {
   "cell_type": "code",
   "execution_count": 1,
   "metadata": {},
   "outputs": [
    {
     "name": "stderr",
     "output_type": "stream",
     "text": [
      "/home/krholshe/.local/lib/python3.6/site-packages/tensorflow/python/framework/dtypes.py:516: FutureWarning: Passing (type, 1) or '1type' as a synonym of type is deprecated; in a future version of numpy, it will be understood as (type, (1,)) / '(1,)type'.\n",
      "  _np_qint8 = np.dtype([(\"qint8\", np.int8, 1)])\n",
      "/home/krholshe/.local/lib/python3.6/site-packages/tensorflow/python/framework/dtypes.py:517: FutureWarning: Passing (type, 1) or '1type' as a synonym of type is deprecated; in a future version of numpy, it will be understood as (type, (1,)) / '(1,)type'.\n",
      "  _np_quint8 = np.dtype([(\"quint8\", np.uint8, 1)])\n",
      "/home/krholshe/.local/lib/python3.6/site-packages/tensorflow/python/framework/dtypes.py:518: FutureWarning: Passing (type, 1) or '1type' as a synonym of type is deprecated; in a future version of numpy, it will be understood as (type, (1,)) / '(1,)type'.\n",
      "  _np_qint16 = np.dtype([(\"qint16\", np.int16, 1)])\n",
      "/home/krholshe/.local/lib/python3.6/site-packages/tensorflow/python/framework/dtypes.py:519: FutureWarning: Passing (type, 1) or '1type' as a synonym of type is deprecated; in a future version of numpy, it will be understood as (type, (1,)) / '(1,)type'.\n",
      "  _np_quint16 = np.dtype([(\"quint16\", np.uint16, 1)])\n",
      "/home/krholshe/.local/lib/python3.6/site-packages/tensorflow/python/framework/dtypes.py:520: FutureWarning: Passing (type, 1) or '1type' as a synonym of type is deprecated; in a future version of numpy, it will be understood as (type, (1,)) / '(1,)type'.\n",
      "  _np_qint32 = np.dtype([(\"qint32\", np.int32, 1)])\n",
      "/home/krholshe/.local/lib/python3.6/site-packages/tensorflow/python/framework/dtypes.py:525: FutureWarning: Passing (type, 1) or '1type' as a synonym of type is deprecated; in a future version of numpy, it will be understood as (type, (1,)) / '(1,)type'.\n",
      "  np_resource = np.dtype([(\"resource\", np.ubyte, 1)])\n",
      "/home/krholshe/.local/lib/python3.6/site-packages/tensorboard/compat/tensorflow_stub/dtypes.py:541: FutureWarning: Passing (type, 1) or '1type' as a synonym of type is deprecated; in a future version of numpy, it will be understood as (type, (1,)) / '(1,)type'.\n",
      "  _np_qint8 = np.dtype([(\"qint8\", np.int8, 1)])\n",
      "/home/krholshe/.local/lib/python3.6/site-packages/tensorboard/compat/tensorflow_stub/dtypes.py:542: FutureWarning: Passing (type, 1) or '1type' as a synonym of type is deprecated; in a future version of numpy, it will be understood as (type, (1,)) / '(1,)type'.\n",
      "  _np_quint8 = np.dtype([(\"quint8\", np.uint8, 1)])\n",
      "/home/krholshe/.local/lib/python3.6/site-packages/tensorboard/compat/tensorflow_stub/dtypes.py:543: FutureWarning: Passing (type, 1) or '1type' as a synonym of type is deprecated; in a future version of numpy, it will be understood as (type, (1,)) / '(1,)type'.\n",
      "  _np_qint16 = np.dtype([(\"qint16\", np.int16, 1)])\n",
      "/home/krholshe/.local/lib/python3.6/site-packages/tensorboard/compat/tensorflow_stub/dtypes.py:544: FutureWarning: Passing (type, 1) or '1type' as a synonym of type is deprecated; in a future version of numpy, it will be understood as (type, (1,)) / '(1,)type'.\n",
      "  _np_quint16 = np.dtype([(\"quint16\", np.uint16, 1)])\n",
      "/home/krholshe/.local/lib/python3.6/site-packages/tensorboard/compat/tensorflow_stub/dtypes.py:545: FutureWarning: Passing (type, 1) or '1type' as a synonym of type is deprecated; in a future version of numpy, it will be understood as (type, (1,)) / '(1,)type'.\n",
      "  _np_qint32 = np.dtype([(\"qint32\", np.int32, 1)])\n",
      "/home/krholshe/.local/lib/python3.6/site-packages/tensorboard/compat/tensorflow_stub/dtypes.py:550: FutureWarning: Passing (type, 1) or '1type' as a synonym of type is deprecated; in a future version of numpy, it will be understood as (type, (1,)) / '(1,)type'.\n",
      "  np_resource = np.dtype([(\"resource\", np.ubyte, 1)])\n"
     ]
    },
    {
     "name": "stdout",
     "output_type": "stream",
     "text": [
      "observation: [0 0 1 1 0 1 1 0 0 1]\n",
      "achieved_goal: [0 0 1 1 0 1 1 0 0 1]\n",
      "desired_goal: [1. 1. 1. 1. 1. 1. 1. 1. 1. 1.]\n"
     ]
    }
   ],
   "source": [
    "from stable_baselines.common.bit_flipping_env import BitFlippingEnv\n",
    "\n",
    "env = BitFlippingEnv(n_bits=10)\n",
    "\n",
    "obs = env.reset()\n",
    "\n",
    "for k, v in obs.items():\n",
    "    print(f\"{k}: {v}\")\n"
   ]
  },
  {
   "cell_type": "code",
   "execution_count": 13,
   "metadata": {},
   "outputs": [
    {
     "data": {
      "text/plain": [
       "'0 1 2 3 4 5 6 7 8 9'"
      ]
     },
     "execution_count": 13,
     "metadata": {},
     "output_type": "execute_result"
    }
   ],
   "source": [
    "arr = np.arange(10)\n",
    "' '.join(arr.astype('U'))"
   ]
  },
  {
   "cell_type": "code",
   "execution_count": 2,
   "metadata": {},
   "outputs": [
    {
     "name": "stdout",
     "output_type": "stream",
     "text": [
      "Discrete(10)\n"
     ]
    },
    {
     "data": {
      "text/plain": [
       "9"
      ]
     },
     "execution_count": 2,
     "metadata": {},
     "output_type": "execute_result"
    }
   ],
   "source": [
    "print(env.action_space)\n",
    "a = env.action_space.sample()\n",
    "a"
   ]
  },
  {
   "cell_type": "code",
   "execution_count": 2,
   "metadata": {},
   "outputs": [],
   "source": [
    "class BitFlippingWrapper(gym.Wrapper):\n",
    "    def __init__(self, env):\n",
    "        super().__init__(env)\n",
    "        self.n_bits = self.env.observation_space['observation'].n\n",
    "        self.observation_space = gym.spaces.MultiBinary(2 * self.n_bits)\n",
    "        self._a = None\n",
    "        self._s = None\n",
    "    \n",
    "    @staticmethod\n",
    "    def _concat(obs):\n",
    "        return np.concatenate([obs['observation'], obs['desired_goal']])\n",
    "    \n",
    "    def reset(self):\n",
    "        obs = self.env.reset()\n",
    "        self._s = obs['observation']\n",
    "        self._a = None\n",
    "        return self._concat(obs)\n",
    "        \n",
    "    def step(self, a):\n",
    "        obs, r, done, info = self.env.step(a)\n",
    "        self._s = obs['observation']\n",
    "        self._a = a\n",
    "        return self._concat(obs), r, done, info\n",
    "    \n",
    "    def render(self, *args, **kwargs):\n",
    "        if self._s is not None:\n",
    "            s = list(map(str, self._s))\n",
    "            if self._a is not None:\n",
    "                s[self._a] = gym.utils.colorize(s[self._a], \"yellow\", highlight=True)\n",
    "            print(''.join(s))\n",
    "\n",
    "\n",
    "# env = BitFlippingEnv(n_bits=10)\n",
    "# env = BitFlippingWrapper(env)\n",
    "# env = km.wrappers.TrainMonitor(env, tensorboard_dir=tbdir)"
   ]
  },
  {
   "cell_type": "code",
   "execution_count": 3,
   "metadata": {},
   "outputs": [],
   "source": [
    "shutil.rmtree('tensorboard/')"
   ]
  },
  {
   "cell_type": "code",
   "execution_count": 4,
   "metadata": {},
   "outputs": [
    {
     "name": "stdout",
     "output_type": "stream",
     "text": [
      "module reloaded: keras_gym.caching.experience_replay\n",
      "module reloaded: keras_gym.caching\n",
      "module reloaded: keras_gym\n",
      "WARNING:tensorflow:From /mnt/c/Users/krholshe/git_tree/keras-gym/keras_gym/wrappers/monitors.py:82: The name tf.summary.FileWriter is deprecated. Please use tf.compat.v1.summary.FileWriter instead.\n",
      "\n",
      "Tensor(\"lambda_1/einsum/transpose_2:0\", shape=(?, 20, 10), dtype=float32)\n",
      "WARNING:tensorflow:From /home/krholshe/.local/lib/python3.6/site-packages/tensorflow/python/ops/init_ops.py:1251: calling VarianceScaling.__init__ (from tensorflow.python.ops.init_ops) with dtype is deprecated and will be removed in a future version.\n",
      "Instructions for updating:\n",
      "Call initializer instance with the dtype argument instead of passing it to the constructor\n",
      "WARNING:tensorflow:Output tf_op_layer_huber_loss/weighted_loss/value missing from loss dictionary. We assume this was done on purpose. The fit and evaluate APIs will not be expecting any data to be passed to tf_op_layer_huber_loss/weighted_loss/value.\n",
      "WARNING:tensorflow:From /home/krholshe/.local/lib/python3.6/site-packages/tensorflow/python/ops/init_ops.py:97: calling GlorotUniform.__init__ (from tensorflow.python.ops.init_ops) with dtype is deprecated and will be removed in a future version.\n",
      "Instructions for updating:\n",
      "Call initializer instance with the dtype argument instead of passing it to the constructor\n",
      "WARNING:tensorflow:From /home/krholshe/.local/lib/python3.6/site-packages/tensorflow/python/ops/init_ops.py:97: calling Zeros.__init__ (from tensorflow.python.ops.init_ops) with dtype is deprecated and will be removed in a future version.\n",
      "Instructions for updating:\n",
      "Call initializer instance with the dtype argument instead of passing it to the constructor\n",
      "WARNING:tensorflow:From /mnt/c/Users/krholshe/git_tree/keras-gym/keras_gym/wrappers/monitors.py:159: The name tf.summary.Summary is deprecated. Please use tf.compat.v1.summary.Summary instead.\n",
      "\n",
      "WARNING:tensorflow:From /mnt/c/Users/krholshe/git_tree/keras-gym/keras_gym/wrappers/monitors.py:182: The name tf.HistogramProto is deprecated. Please use tf.compat.v1.HistogramProto instead.\n",
      "\n",
      "WARNING:tensorflow:From /home/krholshe/.local/lib/python3.6/site-packages/tensorflow/python/ops/math_grad.py:1250: add_dispatch_support.<locals>.wrapper (from tensorflow.python.ops.array_ops) is deprecated and will be removed in a future version.\n",
      "Instructions for updating:\n",
      "Use tf.where in 2.0, which has the same broadcast rule as np.where\n"
     ]
    }
   ],
   "source": [
    "import tensorflow as tf\n",
    "from tensorflow import keras\n",
    "from tensorflow.keras import backend as K\n",
    "from collections import deque, namedtuple\n",
    "\n",
    "%reload keras_gym.caching.experience_replay keras_gym.caching keras_gym\n",
    "import keras_gym as km\n",
    "\n",
    "\n",
    "K.clear_session()\n",
    "\n",
    "# km.enable_logging()\n",
    "tbdir = datetime.datetime.now().strftime('tensorboard/%H.%M.%S')\n",
    "active = False\n",
    "\n",
    "env = BitFlippingEnv(n_bits=10)\n",
    "env = BitFlippingWrapper(env)\n",
    "env = km.wrappers.TrainMonitor(env, tensorboard_dir=tbdir)\n",
    "\n",
    "class Linear(km.FunctionApproximator):\n",
    "    def body_q1(self, S, A):\n",
    "        X = S\n",
    "        X = keras.layers.Lambda(lambda x: K.cast(x, 'float32'))(X)\n",
    "        if active:\n",
    "            X = keras.layers.Lambda(lambda x: x[:, :env.n_bits])(X)\n",
    "        X = keras.layers.Lambda(lambda args: tf.einsum('ij,ik->ijk', *args))([X, A])\n",
    "        print(X)\n",
    "        X = keras.layers.Flatten()(X)\n",
    "        X = keras.layers.Dense(256, activation='relu')(X)\n",
    "        return X\n",
    "\n",
    "\n",
    "func = Linear(env, lr=0.01)\n",
    "q = km.QTypeI(func, gamma=1, bootstrap_n=10, update_strategy='q_learning')\n",
    "pi = km.EpsilonGreedy(q, epsilon=0.01)\n",
    "\n",
    "\n",
    "episode_cache = []\n",
    "buffer = km.caching.ExperienceReplayBuffer.from_value_function(\n",
    "    value_function=q, batch_size=10, capacity=100000)\n",
    "\n",
    "\n",
    "for ep in range(1000):\n",
    "    s = env.reset()\n",
    "\n",
    "    for t in range(env.max_steps):\n",
    "        a = pi(s)\n",
    "        s_next, r, done, info = env.step(a)\n",
    "\n",
    "        # add transition to replay buffer and to episode cache\n",
    "        r = (r + 1) / 2\n",
    "        transition = (s, a, r, done, 2 * ep)\n",
    "        buffer.add(*transition)\n",
    "        episode_cache.append(transition)\n",
    "        \n",
    "        # update q-function (after experience warmup)\n",
    "        if env.T > 100:\n",
    "            q.batch_update(*buffer.sample())\n",
    "\n",
    "        if done:\n",
    "            j = np.random.randint(1, len(episode_cache) + 1)\n",
    "            if j == len(episode_cache):\n",
    "                # goal = terminal state\n",
    "                g = s_next[:env.n_bits]\n",
    "            else:\n",
    "                # goal = would-be terminal state\n",
    "                g = episode_cache[j][0][:env.n_bits]\n",
    "\n",
    "            for i, (s, a, r, done, ep) in enumerate(episode_cache[:j]):\n",
    "                \n",
    "                # update goal (either active or passive transformation)\n",
    "                if active:\n",
    "                    s = np.concatenate([s[:env.n_bits], g])\n",
    "                else:\n",
    "                    s[:env.n_bits] = (s[:env.n_bits] + g + 1) % 2\n",
    "                \n",
    "                # update reward\n",
    "                done = done or i == j - 1\n",
    "                r = 1. if done else 0.\n",
    "                \n",
    "                # insert hindsight-updated transition into buffer\n",
    "                buffer.add(s, a, r, done, ep + 1)\n",
    "            \n",
    "            episode_cache.clear()\n",
    "            break\n",
    "\n",
    "        s = s_next\n",
    "\n"
   ]
  },
  {
   "cell_type": "code",
   "execution_count": 15,
   "metadata": {},
   "outputs": [
    {
     "name": "stdout",
     "output_type": "stream",
     "text": [
      "0111000100\n",
      "011100010\u001b[43m1\u001b[0m\n",
      "\u001b[43m1\u001b[0m111000101\n",
      "1111\u001b[43m1\u001b[0m00101\n",
      "111110\u001b[43m1\u001b[0m101\n",
      "11111\u001b[43m1\u001b[0m1101\n",
      "11111111\u001b[43m1\u001b[0m1\n"
     ]
    }
   ],
   "source": [
    "pi.epsilon = 0\n",
    "\n",
    "s = env.reset()\n",
    "env.render()\n",
    "for t in range(env.max_steps):\n",
    "    a = pi(s)\n",
    "    s, _, done, _ = env.step(a)\n",
    "    env.render()\n",
    "    if done:\n",
    "        break"
   ]
  }
 ],
 "metadata": {
  "kernelspec": {
   "display_name": "Python 3",
   "language": "python",
   "name": "python3"
  },
  "language_info": {
   "codemirror_mode": {
    "name": "ipython",
    "version": 3
   },
   "file_extension": ".py",
   "mimetype": "text/x-python",
   "name": "python",
   "nbconvert_exporter": "python",
   "pygments_lexer": "ipython3",
   "version": "3.6.9"
  }
 },
 "nbformat": 4,
 "nbformat_minor": 2
}
