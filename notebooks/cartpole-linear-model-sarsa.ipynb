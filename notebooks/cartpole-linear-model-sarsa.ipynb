{
 "cells": [
  {
   "cell_type": "code",
   "execution_count": 1,
   "metadata": {},
   "outputs": [
    {
     "name": "stdout",
     "output_type": "stream",
     "text": [
      "module reloaded: skgym.algorithms.td0\n",
      "module reloaded: skgym.algorithms\n",
      "failed after 133 steps\n"
     ]
    },
    {
     "name": "stderr",
     "output_type": "stream",
     "text": [
      "/home/kris/.local/lib/python3.6/site-packages/gym/envs/registration.py:14: PkgResourcesDeprecationWarning: Parameters to load are deprecated.  Call .resolve and .require separately.\n",
      "  result = entry_point.load(False)\n"
     ]
    },
    {
     "name": "stdout",
     "output_type": "stream",
     "text": [
      "failed after 183 steps\n",
      "failed after 19 steps\n",
      "failed after 17 steps\n",
      "failed after 36 steps\n",
      "failed after 64 steps\n",
      "failed after 87 steps\n",
      "failed after 20 steps\n",
      "failed after 102 steps\n",
      "num_consecutive_successes = 1\n",
      "failed after 149 steps\n",
      "failed after 39 steps\n",
      "failed after 116 steps\n",
      "failed after 31 steps\n",
      "failed after 136 steps\n",
      "num_consecutive_successes = 1\n",
      "num_consecutive_successes = 2\n",
      "num_consecutive_successes = 3\n",
      "num_consecutive_successes = 4\n",
      "failed after 175 steps\n",
      "failed after 180 steps\n",
      "num_consecutive_successes = 1\n",
      "num_consecutive_successes = 2\n",
      "num_consecutive_successes = 3\n",
      "num_consecutive_successes = 4\n",
      "num_consecutive_successes = 5\n",
      "num_consecutive_successes = 6\n",
      "num_consecutive_successes = 7\n",
      "num_consecutive_successes = 8\n",
      "num_consecutive_successes = 9\n",
      "num_consecutive_successes = 10\n"
     ]
    }
   ],
   "source": [
    "%reload skgym.algorithms.td0 skgym.algorithms\n",
    "\n",
    "import gym\n",
    "from skgym.value_functions import GenericQ\n",
    "from skgym.policies import ValuePolicy\n",
    "from skgym.algorithms import Sarsa\n",
    "from sklearn.linear_model import SGDRegressor\n",
    "from sklearn.preprocessing import FunctionTransformer\n",
    "\n",
    "\n",
    "# the Gym environment\n",
    "env = gym.make('CartPole-v0')\n",
    "\n",
    "\n",
    "# define sklearn model for approximating Q-function\n",
    "regressor = SGDRegressor(eta0=0.1, learning_rate='constant')\n",
    "transformer = FunctionTransformer(\n",
    "    lambda x: np.hstack((x, x ** 2)), validate=False)\n",
    "\n",
    "\n",
    "# define Q, its induced policy and update algorithm\n",
    "Q = GenericQ(env, regressor, transformer)\n",
    "policy = ValuePolicy(Q)\n",
    "algo = Sarsa(Q, gamma=0.8)\n",
    "\n",
    "\n",
    "# number of iterations\n",
    "num_episodes = 200\n",
    "max_episode_steps = env._max_episode_steps\n",
    "\n",
    "\n",
    "# used for early stopping\n",
    "num_consecutive_successes = 0\n",
    "\n",
    "\n",
    "for episode in range(1, num_episodes + 1):\n",
    "    last_episode = episode == num_episodes or num_consecutive_successes == 9\n",
    "    \n",
    "    # init\n",
    "    s = env.reset()\n",
    "    a = env.action_space.sample()\n",
    "    \n",
    "    # amount of random exploration\n",
    "    if last_episode:\n",
    "        epsilon = 0\n",
    "        env.render()\n",
    "    elif episode < 10:\n",
    "        epsilon = 0.5\n",
    "    else:\n",
    "        epsilon = 0.01\n",
    "    \n",
    "    for t in range(1, max_episode_steps + 1):\n",
    "        s_next, r, done, info = env.step(a)\n",
    "        a_next = policy.epsilon_greedy(s, epsilon)\n",
    "        \n",
    "        # update or render\n",
    "        if not last_episode:\n",
    "            algo.update(s, a, r, s_next, a_next)         \n",
    "        else:\n",
    "            env.render()\n",
    "        \n",
    "        # keep track of consecutive successes\n",
    "        if done:\n",
    "            if t == max_episode_steps:\n",
    "                num_consecutive_successes += 1\n",
    "                print(f\"num_consecutive_successes = {num_consecutive_successes}\")\n",
    "            else:\n",
    "                num_consecutive_successes = 0\n",
    "                print(f\"failed after {t} steps\")\n",
    "            break\n",
    "    \n",
    "        # prepare for next step\n",
    "        s, a = s_next, a_next\n",
    "\n",
    "        \n",
    "    if last_episode:\n",
    "        break\n",
    "\n",
    "\n",
    "env.close()"
   ]
  },
  {
   "cell_type": "code",
   "execution_count": 2,
   "metadata": {},
   "outputs": [
    {
     "name": "stderr",
     "output_type": "stream",
     "text": [
      "/home/kris/.local/lib/python3.6/site-packages/gym/envs/registration.py:14: PkgResourcesDeprecationWarning: Parameters to load are deprecated.  Call .resolve and .require separately.\n",
      "  result = entry_point.load(False)\n"
     ]
    }
   ],
   "source": [
    "# record video\n",
    "env = gym.make('CartPole-v1')\n",
    "env = gym.wrappers.Monitor(env, os.path.join('data', 'video'), force=True)\n",
    "s = env.reset()\n",
    "env.render()\n",
    "done = False\n",
    "\n",
    "while not done:\n",
    "    a = policy.greedy(s)\n",
    "    s, _, done, _ = env.step(a)\n",
    "    env.render()\n",
    "    \n",
    "env.close()"
   ]
  },
  {
   "cell_type": "code",
   "execution_count": 5,
   "metadata": {},
   "outputs": [],
   "source": [
    "env.close()"
   ]
  }
 ],
 "metadata": {
  "kernelspec": {
   "display_name": "Python 3",
   "language": "python",
   "name": "python3"
  },
  "language_info": {
   "codemirror_mode": {
    "name": "ipython",
    "version": 3
   },
   "file_extension": ".py",
   "mimetype": "text/x-python",
   "name": "python",
   "nbconvert_exporter": "python",
   "pygments_lexer": "ipython3",
   "version": "3.6.7"
  }
 },
 "nbformat": 4,
 "nbformat_minor": 2
}
